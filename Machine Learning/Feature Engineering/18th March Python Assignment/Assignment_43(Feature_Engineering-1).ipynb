{
 "cells": [
  {
   "cell_type": "markdown",
   "metadata": {},
   "source": [
    "### Assignment  43: Feature Engineering- 3  Kundan Kumar"
   ]
  },
  {
   "attachments": {
    "d95b9480-4995-4d87-b244-ae408e71b7a4.png": {
     "image/png": "[encoded data removed]"
    }
   },
   "cell_type": "markdown",
   "metadata": {},
   "source": [
    "![image.png](attachment:d95b9480-4995-4d87-b244-ae408e71b7a4.png)"
   ]
  },
  {
   "cell_type": "markdown",
   "metadata": {},
   "source": [
    "## Answer :"
   ]
  },
  {
   "cell_type": "markdown",
   "metadata": {},
   "source": [
    "### Min-Max scaling is a type of data normalization technique used in data preprocessing. It transforms the data in a way that scales all the features to a specific range, usually between 0 and 1.\n",
    "\n",
    "### The formula for Min-Max scaling is:\n",
    "~~~\n",
    "scaled_value = (value - min) / (max - min)\n",
    "\n",
    "Where 'value' is the original value of the data point, 'min' and 'max' are the minimum and maximum values of the feature respectively.\n",
    "~~~\n",
    "\n",
    "### This transformation ensures that all the features are in the same scale and have a similar influence on the model. It is particularly useful when working with algorithms that use distance measures, such as K-Nearest Neighbors (KNN), where the distance between data points plays a crucial role in determining similarity.\n",
    "\n",
    "### Here is an example to illustrate the application of Min-Max scaling:\n",
    "\n",
    "~~~\n",
    "Suppose we have a dataset containing the heights of a group of individuals in centimeters. The dataset has the following values:\n",
    "\n",
    "160, 168, 155, 175, 180, 158\n",
    "\n",
    "To apply Min-Max scaling to this dataset, we first calculate the minimum and maximum values:\n",
    "\n",
    "min = 155\n",
    "max = 180\n",
    "\n",
    "Next, we apply the formula to each value in the dataset:\n",
    "\n",
    "scaled_value = (value - min) / (max - min)\n",
    "\n",
    "For example, the first value of 160 would be transformed as:\n",
    "\n",
    "scaled_value = (160 - 155) / (180 - 155) = 0.357\n",
    "\n",
    "After applying the formula to all the values in the dataset, we obtain the following scaled dataset:\n",
    "\n",
    "0.357, 0.571, 0.000, 0.857, 1.000, 0.214\n",
    "~~~\n",
    "\n",
    "### Now all the values in the dataset are scaled between 0 and 1, making it easier to compare and analyze the data."
   ]
  },
  {
   "cell_type": "markdown",
   "metadata": {},
   "source": [
    "### Below is python code for MinMax Scaler:"
   ]
  },
  {
   "cell_type": "code",
   "execution_count": 36,
   "metadata": {},
   "outputs": [
    {
     "data": {
      "text/html": [
       "<div>\n",
       "<style scoped>\n",
       "    .dataframe tbody tr th:only-of-type {\n",
       "        vertical-align: middle;\n",
       "    }\n",
       "\n",
       "    .dataframe tbody tr th {\n",
       "        vertical-align: top;\n",
       "    }\n",
       "\n",
       "    .dataframe thead th {\n",
       "        text-align: right;\n",
       "    }\n",
       "</style>\n",
       "<table border=\"1\" class=\"dataframe\">\n",
       "  <thead>\n",
       "    <tr style=\"text-align: right;\">\n",
       "      <th></th>\n",
       "      <th>carat</th>\n",
       "      <th>cut</th>\n",
       "      <th>color</th>\n",
       "      <th>clarity</th>\n",
       "      <th>depth</th>\n",
       "      <th>table</th>\n",
       "      <th>price</th>\n",
       "      <th>x</th>\n",
       "      <th>y</th>\n",
       "      <th>z</th>\n",
       "    </tr>\n",
       "  </thead>\n",
       "  <tbody>\n",
       "    <tr>\n",
       "      <th>0</th>\n",
       "      <td>0.23</td>\n",
       "      <td>Ideal</td>\n",
       "      <td>E</td>\n",
       "      <td>SI2</td>\n",
       "      <td>61.5</td>\n",
       "      <td>55.0</td>\n",
       "      <td>326</td>\n",
       "      <td>3.95</td>\n",
       "      <td>3.98</td>\n",
       "      <td>2.43</td>\n",
       "    </tr>\n",
       "    <tr>\n",
       "      <th>1</th>\n",
       "      <td>0.21</td>\n",
       "      <td>Premium</td>\n",
       "      <td>E</td>\n",
       "      <td>SI1</td>\n",
       "      <td>59.8</td>\n",
       "      <td>61.0</td>\n",
       "      <td>326</td>\n",
       "      <td>3.89</td>\n",
       "      <td>3.84</td>\n",
       "      <td>2.31</td>\n",
       "    </tr>\n",
       "    <tr>\n",
       "      <th>2</th>\n",
       "      <td>0.23</td>\n",
       "      <td>Good</td>\n",
       "      <td>E</td>\n",
       "      <td>VS1</td>\n",
       "      <td>56.9</td>\n",
       "      <td>65.0</td>\n",
       "      <td>327</td>\n",
       "      <td>4.05</td>\n",
       "      <td>4.07</td>\n",
       "      <td>2.31</td>\n",
       "    </tr>\n",
       "    <tr>\n",
       "      <th>3</th>\n",
       "      <td>0.29</td>\n",
       "      <td>Premium</td>\n",
       "      <td>I</td>\n",
       "      <td>VS2</td>\n",
       "      <td>62.4</td>\n",
       "      <td>58.0</td>\n",
       "      <td>334</td>\n",
       "      <td>4.20</td>\n",
       "      <td>4.23</td>\n",
       "      <td>2.63</td>\n",
       "    </tr>\n",
       "    <tr>\n",
       "      <th>4</th>\n",
       "      <td>0.31</td>\n",
       "      <td>Good</td>\n",
       "      <td>J</td>\n",
       "      <td>SI2</td>\n",
       "      <td>63.3</td>\n",
       "      <td>58.0</td>\n",
       "      <td>335</td>\n",
       "      <td>4.34</td>\n",
       "      <td>4.35</td>\n",
       "      <td>2.75</td>\n",
       "    </tr>\n",
       "  </tbody>\n",
       "</table>\n",
       "</div>"
      ],
      "text/plain": [
       "   carat      cut color clarity  depth  table  price     x     y     z\n",
       "0   0.23    Ideal     E     SI2   61.5   55.0    326  3.95  3.98  2.43\n",
       "1   0.21  Premium     E     SI1   59.8   61.0    326  3.89  3.84  2.31\n",
       "2   0.23     Good     E     VS1   56.9   65.0    327  4.05  4.07  2.31\n",
       "3   0.29  Premium     I     VS2   62.4   58.0    334  4.20  4.23  2.63\n",
       "4   0.31     Good     J     SI2   63.3   58.0    335  4.34  4.35  2.75"
      ]
     },
     "execution_count": 36,
     "metadata": {},
     "output_type": "execute_result"
    }
   ],
   "source": [
    "# Importing diamonds dataset from seaborn\n",
    "import seaborn as sns\n",
    "df = sns.load_dataset('diamonds')\n",
    "df.head()"
   ]
  },
  {
   "cell_type": "code",
   "execution_count": 37,
   "metadata": {},
   "outputs": [
    {
     "name": "stdout",
     "output_type": "stream",
     "text": [
      "<class 'pandas.core.frame.DataFrame'>\n",
      "RangeIndex: 53940 entries, 0 to 53939\n",
      "Data columns (total 10 columns):\n",
      " #   Column   Non-Null Count  Dtype   \n",
      "---  ------   --------------  -----   \n",
      " 0   carat    53940 non-null  float64 \n",
      " 1   cut      53940 non-null  category\n",
      " 2   color    53940 non-null  category\n",
      " 3   clarity  53940 non-null  category\n",
      " 4   depth    53940 non-null  float64 \n",
      " 5   table    53940 non-null  float64 \n",
      " 6   price    53940 non-null  int64   \n",
      " 7   x        53940 non-null  float64 \n",
      " 8   y        53940 non-null  float64 \n",
      " 9   z        53940 non-null  float64 \n",
      "dtypes: category(3), float64(6), int64(1)\n",
      "memory usage: 3.0 MB\n"
     ]
    }
   ],
   "source": [
    "# Checking dataset info\n",
    "df.info()"
   ]
  },
  {
   "cell_type": "code",
   "execution_count": 38,
   "metadata": {},
   "outputs": [
    {
     "data": {
      "text/plain": [
       "['carat', 'depth', 'table', 'price', 'x', 'y', 'z']"
      ]
     },
     "execution_count": 38,
     "metadata": {},
     "output_type": "execute_result"
    }
   ],
   "source": [
    "# Getting numerical columns\n",
    "numeric_cols = list(df.columns[df.dtypes != 'category'])\n",
    "numeric_cols"
   ]
  },
  {
   "cell_type": "code",
   "execution_count": 39,
   "metadata": {},
   "outputs": [
    {
     "data": {
      "text/html": [
       "<div>\n",
       "<style scoped>\n",
       "    .dataframe tbody tr th:only-of-type {\n",
       "        vertical-align: middle;\n",
       "    }\n",
       "\n",
       "    .dataframe tbody tr th {\n",
       "        vertical-align: top;\n",
       "    }\n",
       "\n",
       "    .dataframe thead th {\n",
       "        text-align: right;\n",
       "    }\n",
       "</style>\n",
       "<table border=\"1\" class=\"dataframe\">\n",
       "  <thead>\n",
       "    <tr style=\"text-align: right;\">\n",
       "      <th></th>\n",
       "      <th>carat</th>\n",
       "      <th>depth</th>\n",
       "      <th>table</th>\n",
       "      <th>price</th>\n",
       "      <th>x</th>\n",
       "      <th>y</th>\n",
       "      <th>z</th>\n",
       "    </tr>\n",
       "  </thead>\n",
       "  <tbody>\n",
       "    <tr>\n",
       "      <th>0</th>\n",
       "      <td>0.006237</td>\n",
       "      <td>0.513889</td>\n",
       "      <td>0.230769</td>\n",
       "      <td>0.000000</td>\n",
       "      <td>0.367784</td>\n",
       "      <td>0.067572</td>\n",
       "      <td>0.076415</td>\n",
       "    </tr>\n",
       "    <tr>\n",
       "      <th>1</th>\n",
       "      <td>0.002079</td>\n",
       "      <td>0.466667</td>\n",
       "      <td>0.346154</td>\n",
       "      <td>0.000000</td>\n",
       "      <td>0.362197</td>\n",
       "      <td>0.065195</td>\n",
       "      <td>0.072642</td>\n",
       "    </tr>\n",
       "    <tr>\n",
       "      <th>2</th>\n",
       "      <td>0.006237</td>\n",
       "      <td>0.386111</td>\n",
       "      <td>0.423077</td>\n",
       "      <td>0.000054</td>\n",
       "      <td>0.377095</td>\n",
       "      <td>0.069100</td>\n",
       "      <td>0.072642</td>\n",
       "    </tr>\n",
       "    <tr>\n",
       "      <th>3</th>\n",
       "      <td>0.018711</td>\n",
       "      <td>0.538889</td>\n",
       "      <td>0.288462</td>\n",
       "      <td>0.000433</td>\n",
       "      <td>0.391061</td>\n",
       "      <td>0.071817</td>\n",
       "      <td>0.082704</td>\n",
       "    </tr>\n",
       "    <tr>\n",
       "      <th>4</th>\n",
       "      <td>0.022869</td>\n",
       "      <td>0.563889</td>\n",
       "      <td>0.288462</td>\n",
       "      <td>0.000487</td>\n",
       "      <td>0.404097</td>\n",
       "      <td>0.073854</td>\n",
       "      <td>0.086478</td>\n",
       "    </tr>\n",
       "  </tbody>\n",
       "</table>\n",
       "</div>"
      ],
      "text/plain": [
       "      carat     depth     table     price         x         y         z\n",
       "0  0.006237  0.513889  0.230769  0.000000  0.367784  0.067572  0.076415\n",
       "1  0.002079  0.466667  0.346154  0.000000  0.362197  0.065195  0.072642\n",
       "2  0.006237  0.386111  0.423077  0.000054  0.377095  0.069100  0.072642\n",
       "3  0.018711  0.538889  0.288462  0.000433  0.391061  0.071817  0.082704\n",
       "4  0.022869  0.563889  0.288462  0.000487  0.404097  0.073854  0.086478"
      ]
     },
     "execution_count": 39,
     "metadata": {},
     "output_type": "execute_result"
    }
   ],
   "source": [
    "# Creating min max scaler instance\n",
    "import pandas as pd\n",
    "from sklearn.preprocessing import MinMaxScaler\n",
    "min_max = MinMaxScaler()\n",
    "df_scaled_numeric = pd.DataFrame(min_max.fit_transform(df[numeric_cols]),\n",
    "                                 columns=numeric_cols) \n",
    "df_scaled_numeric.head()"
   ]
  },
  {
   "cell_type": "code",
   "execution_count": 40,
   "metadata": {},
   "outputs": [
    {
     "data": {
      "text/html": [
       "<div>\n",
       "<style scoped>\n",
       "    .dataframe tbody tr th:only-of-type {\n",
       "        vertical-align: middle;\n",
       "    }\n",
       "\n",
       "    .dataframe tbody tr th {\n",
       "        vertical-align: top;\n",
       "    }\n",
       "\n",
       "    .dataframe thead th {\n",
       "        text-align: right;\n",
       "    }\n",
       "</style>\n",
       "<table border=\"1\" class=\"dataframe\">\n",
       "  <thead>\n",
       "    <tr style=\"text-align: right;\">\n",
       "      <th></th>\n",
       "      <th>count</th>\n",
       "      <th>mean</th>\n",
       "      <th>std</th>\n",
       "      <th>min</th>\n",
       "      <th>25%</th>\n",
       "      <th>50%</th>\n",
       "      <th>75%</th>\n",
       "      <th>max</th>\n",
       "    </tr>\n",
       "  </thead>\n",
       "  <tbody>\n",
       "    <tr>\n",
       "      <th>carat</th>\n",
       "      <td>53940.0</td>\n",
       "      <td>0.124312</td>\n",
       "      <td>0.098547</td>\n",
       "      <td>0.0</td>\n",
       "      <td>0.041580</td>\n",
       "      <td>0.103950</td>\n",
       "      <td>0.174636</td>\n",
       "      <td>1.0</td>\n",
       "    </tr>\n",
       "    <tr>\n",
       "      <th>depth</th>\n",
       "      <td>53940.0</td>\n",
       "      <td>0.520817</td>\n",
       "      <td>0.039795</td>\n",
       "      <td>0.0</td>\n",
       "      <td>0.500000</td>\n",
       "      <td>0.522222</td>\n",
       "      <td>0.541667</td>\n",
       "      <td>1.0</td>\n",
       "    </tr>\n",
       "    <tr>\n",
       "      <th>table</th>\n",
       "      <td>53940.0</td>\n",
       "      <td>0.278023</td>\n",
       "      <td>0.042971</td>\n",
       "      <td>0.0</td>\n",
       "      <td>0.250000</td>\n",
       "      <td>0.269231</td>\n",
       "      <td>0.307692</td>\n",
       "      <td>1.0</td>\n",
       "    </tr>\n",
       "    <tr>\n",
       "      <th>price</th>\n",
       "      <td>53940.0</td>\n",
       "      <td>0.194994</td>\n",
       "      <td>0.215680</td>\n",
       "      <td>0.0</td>\n",
       "      <td>0.033735</td>\n",
       "      <td>0.112180</td>\n",
       "      <td>0.270219</td>\n",
       "      <td>1.0</td>\n",
       "    </tr>\n",
       "    <tr>\n",
       "      <th>x</th>\n",
       "      <td>53940.0</td>\n",
       "      <td>0.533627</td>\n",
       "      <td>0.104447</td>\n",
       "      <td>0.0</td>\n",
       "      <td>0.438547</td>\n",
       "      <td>0.530726</td>\n",
       "      <td>0.608939</td>\n",
       "      <td>1.0</td>\n",
       "    </tr>\n",
       "    <tr>\n",
       "      <th>y</th>\n",
       "      <td>53940.0</td>\n",
       "      <td>0.097360</td>\n",
       "      <td>0.019391</td>\n",
       "      <td>0.0</td>\n",
       "      <td>0.080136</td>\n",
       "      <td>0.096944</td>\n",
       "      <td>0.111036</td>\n",
       "      <td>1.0</td>\n",
       "    </tr>\n",
       "    <tr>\n",
       "      <th>z</th>\n",
       "      <td>53940.0</td>\n",
       "      <td>0.111281</td>\n",
       "      <td>0.022192</td>\n",
       "      <td>0.0</td>\n",
       "      <td>0.091509</td>\n",
       "      <td>0.111006</td>\n",
       "      <td>0.127044</td>\n",
       "      <td>1.0</td>\n",
       "    </tr>\n",
       "  </tbody>\n",
       "</table>\n",
       "</div>"
      ],
      "text/plain": [
       "         count      mean       std  min       25%       50%       75%  max\n",
       "carat  53940.0  0.124312  0.098547  0.0  0.041580  0.103950  0.174636  1.0\n",
       "depth  53940.0  0.520817  0.039795  0.0  0.500000  0.522222  0.541667  1.0\n",
       "table  53940.0  0.278023  0.042971  0.0  0.250000  0.269231  0.307692  1.0\n",
       "price  53940.0  0.194994  0.215680  0.0  0.033735  0.112180  0.270219  1.0\n",
       "x      53940.0  0.533627  0.104447  0.0  0.438547  0.530726  0.608939  1.0\n",
       "y      53940.0  0.097360  0.019391  0.0  0.080136  0.096944  0.111036  1.0\n",
       "z      53940.0  0.111281  0.022192  0.0  0.091509  0.111006  0.127044  1.0"
      ]
     },
     "execution_count": 40,
     "metadata": {},
     "output_type": "execute_result"
    }
   ],
   "source": [
    "# Describing the scaled data\n",
    "df_scaled_numeric.describe().T"
   ]
  },
  {
   "attachments": {
    "9fd7538f-5c1a-4a8a-83c7-69658d1846ec.png": {
     "image/png": "[encoded data removed]"
    }
   },
   "cell_type": "markdown",
   "metadata": {},
   "source": [
    "![image.png](attachment:9fd7538f-5c1a-4a8a-83c7-69658d1846ec.png)"
   ]
  },
  {
   "cell_type": "markdown",
   "metadata": {},
   "source": [
    "## Answer :"
   ]
  },
  {
   "cell_type": "markdown",
   "metadata": {},
   "source": [
    "### The Unit Vector technique is a type of feature scaling used in data preprocessing that scales the data to a unit length vector. Unlike Min-Max scaling, it preserves the direction of the data while scaling the magnitude.\n",
    "\n",
    "### In the Unit Vector technique, each data point is divided by its Euclidean length, which is calculated as the square root of the sum of squares of all the feature values of that data point. This results in a vector with a length of 1.\n",
    "\n",
    "### The formula for Unit Vector scaling is:\n",
    "\n",
    "~~~\n",
    "unit_vector = value / sqrt(sum(value^2))\n",
    "~~~\n",
    "\n",
    "### Here is an example to illustrate the application of Unit Vector scaling:\n",
    "\n",
    "~~~\n",
    "Suppose we have a dataset containing the heights and weights of a group of individuals. The dataset has the following values:\n",
    "\n",
    "Height (cm): 160, 168, 155, 175, 180, 158\n",
    "Weight (kg): 55, 60, 50, 70, 75, 48\n",
    "\n",
    "To apply Unit Vector scaling to this dataset, we first calculate the Euclidean length of each data point using the formula:\n",
    "\n",
    "Euclidean length = sqrt(height^2 + weight^2)\n",
    "\n",
    "For example, the Euclidean length of the first data point (160 cm, 55 kg) would be:\n",
    "\n",
    "sqrt(160^2 + 55^2) = 169.45\n",
    "\n",
    "Next, we divide each feature value by the Euclidean length of its corresponding data point to obtain the scaled value:\n",
    "\n",
    "Height (cm) Scaled: [0.944, 0.993, 0.917, 0.980, 0.984, 0.925]\n",
    "Weight (kg) Scaled: [0.328, 0.355, 0.292, 0.425, 0.441, 0.282]\n",
    "\n",
    "~~~\n",
    "\n",
    "### As we can see from the scaled values, the direction of the data is preserved while scaling the magnitude. Each data point is now a unit length vector, making it easier to compare and analyze the data.\n",
    "\n",
    "### In comparison to Min-Max scaling, Unit Vector scaling is more useful in cases where we want to preserve the direction of the data, such as in text classification or natural language processing."
   ]
  },
  {
   "cell_type": "markdown",
   "metadata": {},
   "source": [
    "### Below is example python code to apply unit vector method :"
   ]
  },
  {
   "cell_type": "code",
   "execution_count": 41,
   "metadata": {},
   "outputs": [
    {
     "data": {
      "text/html": [
       "<div>\n",
       "<style scoped>\n",
       "    .dataframe tbody tr th:only-of-type {\n",
       "        vertical-align: middle;\n",
       "    }\n",
       "\n",
       "    .dataframe tbody tr th {\n",
       "        vertical-align: top;\n",
       "    }\n",
       "\n",
       "    .dataframe thead th {\n",
       "        text-align: right;\n",
       "    }\n",
       "</style>\n",
       "<table border=\"1\" class=\"dataframe\">\n",
       "  <thead>\n",
       "    <tr style=\"text-align: right;\">\n",
       "      <th></th>\n",
       "      <th>sepal_length</th>\n",
       "      <th>sepal_width</th>\n",
       "      <th>petal_length</th>\n",
       "      <th>petal_width</th>\n",
       "      <th>species</th>\n",
       "    </tr>\n",
       "  </thead>\n",
       "  <tbody>\n",
       "    <tr>\n",
       "      <th>0</th>\n",
       "      <td>5.1</td>\n",
       "      <td>3.5</td>\n",
       "      <td>1.4</td>\n",
       "      <td>0.2</td>\n",
       "      <td>setosa</td>\n",
       "    </tr>\n",
       "    <tr>\n",
       "      <th>1</th>\n",
       "      <td>4.9</td>\n",
       "      <td>3.0</td>\n",
       "      <td>1.4</td>\n",
       "      <td>0.2</td>\n",
       "      <td>setosa</td>\n",
       "    </tr>\n",
       "    <tr>\n",
       "      <th>2</th>\n",
       "      <td>4.7</td>\n",
       "      <td>3.2</td>\n",
       "      <td>1.3</td>\n",
       "      <td>0.2</td>\n",
       "      <td>setosa</td>\n",
       "    </tr>\n",
       "    <tr>\n",
       "      <th>3</th>\n",
       "      <td>4.6</td>\n",
       "      <td>3.1</td>\n",
       "      <td>1.5</td>\n",
       "      <td>0.2</td>\n",
       "      <td>setosa</td>\n",
       "    </tr>\n",
       "    <tr>\n",
       "      <th>4</th>\n",
       "      <td>5.0</td>\n",
       "      <td>3.6</td>\n",
       "      <td>1.4</td>\n",
       "      <td>0.2</td>\n",
       "      <td>setosa</td>\n",
       "    </tr>\n",
       "  </tbody>\n",
       "</table>\n",
       "</div>"
      ],
      "text/plain": [
       "   sepal_length  sepal_width  petal_length  petal_width species\n",
       "0           5.1          3.5           1.4          0.2  setosa\n",
       "1           4.9          3.0           1.4          0.2  setosa\n",
       "2           4.7          3.2           1.3          0.2  setosa\n",
       "3           4.6          3.1           1.5          0.2  setosa\n",
       "4           5.0          3.6           1.4          0.2  setosa"
      ]
     },
     "execution_count": 41,
     "metadata": {},
     "output_type": "execute_result"
    }
   ],
   "source": [
    "# Loading iris dataset from seaborn\n",
    "df = sns.load_dataset('iris')\n",
    "df.head()"
   ]
  },
  {
   "cell_type": "code",
   "execution_count": 42,
   "metadata": {},
   "outputs": [
    {
     "name": "stdout",
     "output_type": "stream",
     "text": [
      "<class 'pandas.core.frame.DataFrame'>\n",
      "RangeIndex: 150 entries, 0 to 149\n",
      "Data columns (total 5 columns):\n",
      " #   Column        Non-Null Count  Dtype  \n",
      "---  ------        --------------  -----  \n",
      " 0   sepal_length  150 non-null    float64\n",
      " 1   sepal_width   150 non-null    float64\n",
      " 2   petal_length  150 non-null    float64\n",
      " 3   petal_width   150 non-null    float64\n",
      " 4   species       150 non-null    object \n",
      "dtypes: float64(4), object(1)\n",
      "memory usage: 6.0+ KB\n"
     ]
    }
   ],
   "source": [
    "# Checking dataset info\n",
    "df.info()"
   ]
  },
  {
   "cell_type": "code",
   "execution_count": 43,
   "metadata": {},
   "outputs": [
    {
     "data": {
      "text/plain": [
       "['sepal_length', 'sepal_width', 'petal_length', 'petal_width']"
      ]
     },
     "execution_count": 43,
     "metadata": {},
     "output_type": "execute_result"
    }
   ],
   "source": [
    "# Seperating numeric columns\n",
    "numeric_cols = list(df.columns[df.dtypes != 'object'])\n",
    "numeric_cols"
   ]
  },
  {
   "cell_type": "code",
   "execution_count": 44,
   "metadata": {},
   "outputs": [
    {
     "data": {
      "text/html": [
       "<div>\n",
       "<style scoped>\n",
       "    .dataframe tbody tr th:only-of-type {\n",
       "        vertical-align: middle;\n",
       "    }\n",
       "\n",
       "    .dataframe tbody tr th {\n",
       "        vertical-align: top;\n",
       "    }\n",
       "\n",
       "    .dataframe thead th {\n",
       "        text-align: right;\n",
       "    }\n",
       "</style>\n",
       "<table border=\"1\" class=\"dataframe\">\n",
       "  <thead>\n",
       "    <tr style=\"text-align: right;\">\n",
       "      <th></th>\n",
       "      <th>sepal_length</th>\n",
       "      <th>sepal_width</th>\n",
       "      <th>petal_length</th>\n",
       "      <th>petal_width</th>\n",
       "    </tr>\n",
       "  </thead>\n",
       "  <tbody>\n",
       "    <tr>\n",
       "      <th>0</th>\n",
       "      <td>0.803773</td>\n",
       "      <td>0.551609</td>\n",
       "      <td>0.220644</td>\n",
       "      <td>0.031521</td>\n",
       "    </tr>\n",
       "    <tr>\n",
       "      <th>1</th>\n",
       "      <td>0.828133</td>\n",
       "      <td>0.507020</td>\n",
       "      <td>0.236609</td>\n",
       "      <td>0.033801</td>\n",
       "    </tr>\n",
       "    <tr>\n",
       "      <th>2</th>\n",
       "      <td>0.805333</td>\n",
       "      <td>0.548312</td>\n",
       "      <td>0.222752</td>\n",
       "      <td>0.034269</td>\n",
       "    </tr>\n",
       "    <tr>\n",
       "      <th>3</th>\n",
       "      <td>0.800030</td>\n",
       "      <td>0.539151</td>\n",
       "      <td>0.260879</td>\n",
       "      <td>0.034784</td>\n",
       "    </tr>\n",
       "    <tr>\n",
       "      <th>4</th>\n",
       "      <td>0.790965</td>\n",
       "      <td>0.569495</td>\n",
       "      <td>0.221470</td>\n",
       "      <td>0.031639</td>\n",
       "    </tr>\n",
       "  </tbody>\n",
       "</table>\n",
       "</div>"
      ],
      "text/plain": [
       "   sepal_length  sepal_width  petal_length  petal_width\n",
       "0      0.803773     0.551609      0.220644     0.031521\n",
       "1      0.828133     0.507020      0.236609     0.033801\n",
       "2      0.805333     0.548312      0.222752     0.034269\n",
       "3      0.800030     0.539151      0.260879     0.034784\n",
       "4      0.790965     0.569495      0.221470     0.031639"
      ]
     },
     "execution_count": 44,
     "metadata": {},
     "output_type": "execute_result"
    }
   ],
   "source": [
    "# Applying unit vector method to numeric columns\n",
    "import pandas as pd\n",
    "from sklearn.preprocessing import normalize\n",
    "df_vector = pd.DataFrame(normalize(df[numeric_cols]),columns=numeric_cols)\n",
    "df_vector.head()"
   ]
  },
  {
   "cell_type": "code",
   "execution_count": 45,
   "metadata": {},
   "outputs": [
    {
     "data": {
      "text/html": [
       "<div>\n",
       "<style scoped>\n",
       "    .dataframe tbody tr th:only-of-type {\n",
       "        vertical-align: middle;\n",
       "    }\n",
       "\n",
       "    .dataframe tbody tr th {\n",
       "        vertical-align: top;\n",
       "    }\n",
       "\n",
       "    .dataframe thead th {\n",
       "        text-align: right;\n",
       "    }\n",
       "</style>\n",
       "<table border=\"1\" class=\"dataframe\">\n",
       "  <thead>\n",
       "    <tr style=\"text-align: right;\">\n",
       "      <th></th>\n",
       "      <th>count</th>\n",
       "      <th>mean</th>\n",
       "      <th>std</th>\n",
       "      <th>min</th>\n",
       "      <th>25%</th>\n",
       "      <th>50%</th>\n",
       "      <th>75%</th>\n",
       "      <th>max</th>\n",
       "    </tr>\n",
       "  </thead>\n",
       "  <tbody>\n",
       "    <tr>\n",
       "      <th>sepal_length</th>\n",
       "      <td>150.0</td>\n",
       "      <td>0.751400</td>\n",
       "      <td>0.044368</td>\n",
       "      <td>0.653877</td>\n",
       "      <td>0.715261</td>\n",
       "      <td>0.754883</td>\n",
       "      <td>0.786912</td>\n",
       "      <td>0.860939</td>\n",
       "    </tr>\n",
       "    <tr>\n",
       "      <th>sepal_width</th>\n",
       "      <td>150.0</td>\n",
       "      <td>0.405174</td>\n",
       "      <td>0.105624</td>\n",
       "      <td>0.238392</td>\n",
       "      <td>0.326738</td>\n",
       "      <td>0.354371</td>\n",
       "      <td>0.527627</td>\n",
       "      <td>0.607125</td>\n",
       "    </tr>\n",
       "    <tr>\n",
       "      <th>petal_length</th>\n",
       "      <td>150.0</td>\n",
       "      <td>0.454784</td>\n",
       "      <td>0.159986</td>\n",
       "      <td>0.167836</td>\n",
       "      <td>0.250925</td>\n",
       "      <td>0.536367</td>\n",
       "      <td>0.580025</td>\n",
       "      <td>0.636981</td>\n",
       "    </tr>\n",
       "    <tr>\n",
       "      <th>petal_width</th>\n",
       "      <td>150.0</td>\n",
       "      <td>0.141071</td>\n",
       "      <td>0.077977</td>\n",
       "      <td>0.014727</td>\n",
       "      <td>0.048734</td>\n",
       "      <td>0.164148</td>\n",
       "      <td>0.197532</td>\n",
       "      <td>0.280419</td>\n",
       "    </tr>\n",
       "  </tbody>\n",
       "</table>\n",
       "</div>"
      ],
      "text/plain": [
       "              count      mean       std       min       25%       50%  \\\n",
       "sepal_length  150.0  0.751400  0.044368  0.653877  0.715261  0.754883   \n",
       "sepal_width   150.0  0.405174  0.105624  0.238392  0.326738  0.354371   \n",
       "petal_length  150.0  0.454784  0.159986  0.167836  0.250925  0.536367   \n",
       "petal_width   150.0  0.141071  0.077977  0.014727  0.048734  0.164148   \n",
       "\n",
       "                   75%       max  \n",
       "sepal_length  0.786912  0.860939  \n",
       "sepal_width   0.527627  0.607125  \n",
       "petal_length  0.580025  0.636981  \n",
       "petal_width   0.197532  0.280419  "
      ]
     },
     "execution_count": 45,
     "metadata": {},
     "output_type": "execute_result"
    }
   ],
   "source": [
    "# Describing unit vector dataframe\n",
    "df_vector.describe().T"
   ]
  },
  {
   "attachments": {
    "c810ab7c-7f14-45fa-b54c-4492da72e80c.png": {
     "image/png": "[encoded data removed]"
    }
   },
   "cell_type": "markdown",
   "metadata": {},
   "source": [
    "![image.png](attachment:c810ab7c-7f14-45fa-b54c-4492da72e80c.png)"
   ]
  },
  {
   "cell_type": "markdown",
   "metadata": {},
   "source": [
    "## Answer :"
   ]
  },
  {
   "cell_type": "markdown",
   "metadata": {},
   "source": [
    "### Principal Component Analysis (PCA) is a technique used for dimensionality reduction in data analysis. It is a statistical method that aims to transform the original dataset into a lower-dimensional space while retaining as much of the original information as possible.\n",
    "\n",
    "### The main idea behind PCA is to identify a set of new variables, called principal components, that explain the maximum amount of variance in the original data. These principal components are linear combinations of the original variables and are orthogonal to each other. The first principal component captures the direction of the maximum variance in the data, while the subsequent principal components capture the remaining variance in decreasing order.\n",
    "\n",
    "### PCA can be used for various applications such as exploratory data analysis, data visualization, and feature extraction for machine learning algorithms. It is particularly useful in reducing the dimensionality of high-dimensional datasets, where the number of features exceeds the number of observations, and in cases where there are strong correlations among the features."
   ]
  },
  {
   "cell_type": "markdown",
   "metadata": {},
   "source": [
    "![PCA visual](https://programmathically.com/wp-content/uploads/2021/08/pca-2-dimensions-1024x644.png)"
   ]
  },
  {
   "cell_type": "markdown",
   "metadata": {},
   "source": [
    "### Here's an example of how to apply PCA for dimensionality reduction using Python and the Scikit-learn library:"
   ]
  },
  {
   "cell_type": "code",
   "execution_count": 46,
   "metadata": {},
   "outputs": [
    {
     "name": "stdout",
     "output_type": "stream",
     "text": [
      "Orignal Dataset :\n",
      "    sepal_length  sepal_width  petal_length  petal_width species\n",
      "0           5.1          3.5           1.4          0.2  setosa\n",
      "1           4.9          3.0           1.4          0.2  setosa\n",
      "2           4.7          3.2           1.3          0.2  setosa\n",
      "3           4.6          3.1           1.5          0.2  setosa\n",
      "4           5.0          3.6           1.4          0.2  setosa\n",
      "\n",
      "=====================================================================\n",
      "\n",
      "Variance Ratio: [0.72962445 0.22850762]\n",
      "\n",
      "Transformed X Data:\n",
      "         PC1       PC2\n",
      "0 -2.264703  0.480027\n",
      "1 -2.080961 -0.674134\n",
      "2 -2.364229 -0.341908\n",
      "3 -2.299384 -0.597395\n",
      "4 -2.389842  0.646835\n"
     ]
    }
   ],
   "source": [
    "import seaborn as sns\n",
    "from sklearn.decomposition import PCA\n",
    "from sklearn.preprocessing import StandardScaler\n",
    "\n",
    "# load the iris dataset\n",
    "iris = sns.load_dataset('iris')\n",
    "\n",
    "# Print orignal dataset \n",
    "print('Orignal Dataset :\\n',iris.head())\n",
    "print('\\n=====================================================================\\n')\n",
    "\n",
    "# extract the feature data\n",
    "X = iris.drop(labels=['species'],axis=1)\n",
    "Y = iris[['species']]\n",
    "\n",
    "# Scaling the X data using StandardScaler\n",
    "scaler = StandardScaler()\n",
    "X_scaled = pd.DataFrame(scaler.fit_transform(X),columns=X.columns)\n",
    "\n",
    "\n",
    "# apply PCA with two principal components\n",
    "pca = PCA(n_components=2)\n",
    "X_pca = pd.DataFrame(pca.fit_transform(X_scaled),columns=['PC1','PC2'])\n",
    "\n",
    "# print the variance ratio explained by each principal component\n",
    "print(\"Variance Ratio:\", pca.explained_variance_ratio_)\n",
    "\n",
    "# print the transformed data\n",
    "print(\"\\nTransformed X Data:\\n\", X_pca.head())"
   ]
  },
  {
   "cell_type": "code",
   "execution_count": 47,
   "metadata": {},
   "outputs": [
    {
     "data": {
      "text/html": [
       "<div>\n",
       "<style scoped>\n",
       "    .dataframe tbody tr th:only-of-type {\n",
       "        vertical-align: middle;\n",
       "    }\n",
       "\n",
       "    .dataframe tbody tr th {\n",
       "        vertical-align: top;\n",
       "    }\n",
       "\n",
       "    .dataframe thead th {\n",
       "        text-align: right;\n",
       "    }\n",
       "</style>\n",
       "<table border=\"1\" class=\"dataframe\">\n",
       "  <thead>\n",
       "    <tr style=\"text-align: right;\">\n",
       "      <th></th>\n",
       "      <th>PC1</th>\n",
       "      <th>PC2</th>\n",
       "      <th>species</th>\n",
       "    </tr>\n",
       "  </thead>\n",
       "  <tbody>\n",
       "    <tr>\n",
       "      <th>0</th>\n",
       "      <td>-2.264703</td>\n",
       "      <td>0.480027</td>\n",
       "      <td>setosa</td>\n",
       "    </tr>\n",
       "    <tr>\n",
       "      <th>1</th>\n",
       "      <td>-2.080961</td>\n",
       "      <td>-0.674134</td>\n",
       "      <td>setosa</td>\n",
       "    </tr>\n",
       "    <tr>\n",
       "      <th>2</th>\n",
       "      <td>-2.364229</td>\n",
       "      <td>-0.341908</td>\n",
       "      <td>setosa</td>\n",
       "    </tr>\n",
       "    <tr>\n",
       "      <th>3</th>\n",
       "      <td>-2.299384</td>\n",
       "      <td>-0.597395</td>\n",
       "      <td>setosa</td>\n",
       "    </tr>\n",
       "    <tr>\n",
       "      <th>4</th>\n",
       "      <td>-2.389842</td>\n",
       "      <td>0.646835</td>\n",
       "      <td>setosa</td>\n",
       "    </tr>\n",
       "  </tbody>\n",
       "</table>\n",
       "</div>"
      ],
      "text/plain": [
       "        PC1       PC2 species\n",
       "0 -2.264703  0.480027  setosa\n",
       "1 -2.080961 -0.674134  setosa\n",
       "2 -2.364229 -0.341908  setosa\n",
       "3 -2.299384 -0.597395  setosa\n",
       "4 -2.389842  0.646835  setosa"
      ]
     },
     "execution_count": 47,
     "metadata": {},
     "output_type": "execute_result"
    }
   ],
   "source": [
    "# Concatenating Principal components and species\n",
    "df_pca = pd.concat([X_pca,Y],axis=1)\n",
    "df_pca.head()"
   ]
  },
  {
   "cell_type": "code",
   "execution_count": 48,
   "metadata": {},
   "outputs": [
    {
     "data": {
      "image/png": "[encoded data removed]",
      "text/plain": [
       "<Figure size 640x480 with 1 Axes>"
      ]
     },
     "metadata": {},
     "output_type": "display_data"
    }
   ],
   "source": [
    "# Plot scatterplot of PCA\n",
    "import seaborn as sns\n",
    "import matplotlib.pyplot as plt\n",
    "sns.scatterplot(data=df_pca,x='PC1',y='PC2',hue='species')\n",
    "plt.title('Principle Components Scatter plot')\n",
    "plt.show()"
   ]
  },
  {
   "cell_type": "markdown",
   "metadata": {},
   "source": [
    "### In above case 4 dimensions are reduced only to 2 components using PCA"
   ]
  },
  {
   "cell_type": "markdown",
   "metadata": {},
   "source": [
    "## Question 4 : What is the relationship between PCA and Feature Extraction, and how can PCA be used for Feature Extraction? Provide an example to illustrate this concept.\n",
    "---"
   ]
  },
  {
   "cell_type": "markdown",
   "metadata": {},
   "source": [
    "## Answer :"
   ]
  },
  {
   "cell_type": "markdown",
   "metadata": {},
   "source": [
    "### PCA is a technique used for dimensionality reduction, which can be applied for feature extraction in machine learning. Feature extraction is a process of transforming high-dimensional data into a lower-dimensional space while retaining the essential information. The main goal of feature extraction is to reduce the computational complexity of the data, improve the accuracy of machine learning models, and enhance the interpretability of the results.\n",
    "\n",
    "### PCA can be used for feature extraction by identifying the principal components that capture the maximum amount of variance in the data. These principal components can be considered as the most important features of the original data, and they can be used as input for machine learning models. This approach not only reduces the dimensionality of the data but also enhances the interpretability of the features.\n",
    "\n",
    "### Here's an example of how to use PCA for feature extraction in Python using Scikit-learn library"
   ]
  },
  {
   "cell_type": "code",
   "execution_count": 49,
   "metadata": {},
   "outputs": [
    {
     "data": {
      "text/html": [
       "<div>\n",
       "<style scoped>\n",
       "    .dataframe tbody tr th:only-of-type {\n",
       "        vertical-align: middle;\n",
       "    }\n",
       "\n",
       "    .dataframe tbody tr th {\n",
       "        vertical-align: top;\n",
       "    }\n",
       "\n",
       "    .dataframe thead th {\n",
       "        text-align: right;\n",
       "    }\n",
       "</style>\n",
       "<table border=\"1\" class=\"dataframe\">\n",
       "  <thead>\n",
       "    <tr style=\"text-align: right;\">\n",
       "      <th></th>\n",
       "      <th>ID</th>\n",
       "      <th>LIMIT_BAL</th>\n",
       "      <th>SEX</th>\n",
       "      <th>EDUCATION</th>\n",
       "      <th>MARRIAGE</th>\n",
       "      <th>AGE</th>\n",
       "      <th>PAY_0</th>\n",
       "      <th>PAY_2</th>\n",
       "      <th>PAY_3</th>\n",
       "      <th>PAY_4</th>\n",
       "      <th>...</th>\n",
       "      <th>BILL_AMT4</th>\n",
       "      <th>BILL_AMT5</th>\n",
       "      <th>BILL_AMT6</th>\n",
       "      <th>PAY_AMT1</th>\n",
       "      <th>PAY_AMT2</th>\n",
       "      <th>PAY_AMT3</th>\n",
       "      <th>PAY_AMT4</th>\n",
       "      <th>PAY_AMT5</th>\n",
       "      <th>PAY_AMT6</th>\n",
       "      <th>default.payment.next.month</th>\n",
       "    </tr>\n",
       "  </thead>\n",
       "  <tbody>\n",
       "    <tr>\n",
       "      <th>0</th>\n",
       "      <td>1</td>\n",
       "      <td>20000.0</td>\n",
       "      <td>2</td>\n",
       "      <td>2</td>\n",
       "      <td>1</td>\n",
       "      <td>24</td>\n",
       "      <td>2</td>\n",
       "      <td>2</td>\n",
       "      <td>-1</td>\n",
       "      <td>-1</td>\n",
       "      <td>...</td>\n",
       "      <td>0</td>\n",
       "      <td>0</td>\n",
       "      <td>0.0</td>\n",
       "      <td>0.0</td>\n",
       "      <td>689.0</td>\n",
       "      <td>0.0</td>\n",
       "      <td>0.0</td>\n",
       "      <td>0.0</td>\n",
       "      <td>0.0</td>\n",
       "      <td>1</td>\n",
       "    </tr>\n",
       "    <tr>\n",
       "      <th>1</th>\n",
       "      <td>2</td>\n",
       "      <td>120000.0</td>\n",
       "      <td>2</td>\n",
       "      <td>2</td>\n",
       "      <td>2</td>\n",
       "      <td>26</td>\n",
       "      <td>-1</td>\n",
       "      <td>2</td>\n",
       "      <td>0</td>\n",
       "      <td>0</td>\n",
       "      <td>...</td>\n",
       "      <td>3272</td>\n",
       "      <td>3455</td>\n",
       "      <td>3261.0</td>\n",
       "      <td>0.0</td>\n",
       "      <td>1000.0</td>\n",
       "      <td>1000.0</td>\n",
       "      <td>1000.0</td>\n",
       "      <td>0.0</td>\n",
       "      <td>2000.0</td>\n",
       "      <td>1</td>\n",
       "    </tr>\n",
       "    <tr>\n",
       "      <th>2</th>\n",
       "      <td>3</td>\n",
       "      <td>90000.0</td>\n",
       "      <td>2</td>\n",
       "      <td>2</td>\n",
       "      <td>2</td>\n",
       "      <td>34</td>\n",
       "      <td>0</td>\n",
       "      <td>0</td>\n",
       "      <td>0</td>\n",
       "      <td>0</td>\n",
       "      <td>...</td>\n",
       "      <td>14331</td>\n",
       "      <td>14948</td>\n",
       "      <td>15549.0</td>\n",
       "      <td>1518.0</td>\n",
       "      <td>1500.0</td>\n",
       "      <td>1000.0</td>\n",
       "      <td>1000.0</td>\n",
       "      <td>1000.0</td>\n",
       "      <td>5000.0</td>\n",
       "      <td>0</td>\n",
       "    </tr>\n",
       "    <tr>\n",
       "      <th>3</th>\n",
       "      <td>4</td>\n",
       "      <td>50000.0</td>\n",
       "      <td>2</td>\n",
       "      <td>2</td>\n",
       "      <td>1</td>\n",
       "      <td>37</td>\n",
       "      <td>0</td>\n",
       "      <td>0</td>\n",
       "      <td>0</td>\n",
       "      <td>0</td>\n",
       "      <td>...</td>\n",
       "      <td>28314</td>\n",
       "      <td>28959</td>\n",
       "      <td>29547.0</td>\n",
       "      <td>2000.0</td>\n",
       "      <td>2019.0</td>\n",
       "      <td>1200.0</td>\n",
       "      <td>1100.0</td>\n",
       "      <td>1069.0</td>\n",
       "      <td>1000.0</td>\n",
       "      <td>0</td>\n",
       "    </tr>\n",
       "    <tr>\n",
       "      <th>4</th>\n",
       "      <td>5</td>\n",
       "      <td>50000.0</td>\n",
       "      <td>1</td>\n",
       "      <td>2</td>\n",
       "      <td>1</td>\n",
       "      <td>57</td>\n",
       "      <td>-1</td>\n",
       "      <td>0</td>\n",
       "      <td>-1</td>\n",
       "      <td>0</td>\n",
       "      <td>...</td>\n",
       "      <td>20940</td>\n",
       "      <td>19146</td>\n",
       "      <td>19131.0</td>\n",
       "      <td>2000.0</td>\n",
       "      <td>36681.0</td>\n",
       "      <td>10000.0</td>\n",
       "      <td>9000.0</td>\n",
       "      <td>689.0</td>\n",
       "      <td>679.0</td>\n",
       "      <td>0</td>\n",
       "    </tr>\n",
       "  </tbody>\n",
       "</table>\n",
       "<p>5 rows × 25 columns</p>\n",
       "</div>"
      ],
      "text/plain": [
       "   ID  LIMIT_BAL  SEX  EDUCATION  MARRIAGE  AGE  PAY_0  PAY_2  PAY_3  PAY_4  \\\n",
       "0   1    20000.0    2          2         1   24      2      2     -1     -1   \n",
       "1   2   120000.0    2          2         2   26     -1      2      0      0   \n",
       "2   3    90000.0    2          2         2   34      0      0      0      0   \n",
       "3   4    50000.0    2          2         1   37      0      0      0      0   \n",
       "4   5    50000.0    1          2         1   57     -1      0     -1      0   \n",
       "\n",
       "   ...  BILL_AMT4  BILL_AMT5  BILL_AMT6  PAY_AMT1  PAY_AMT2  PAY_AMT3  \\\n",
       "0  ...          0          0        0.0       0.0     689.0       0.0   \n",
       "1  ...       3272       3455     3261.0       0.0    1000.0    1000.0   \n",
       "2  ...      14331      14948    15549.0    1518.0    1500.0    1000.0   \n",
       "3  ...      28314      28959    29547.0    2000.0    2019.0    1200.0   \n",
       "4  ...      20940      19146    19131.0    2000.0   36681.0   10000.0   \n",
       "\n",
       "   PAY_AMT4  PAY_AMT5  PAY_AMT6  default.payment.next.month  \n",
       "0       0.0       0.0       0.0                           1  \n",
       "1    1000.0       0.0    2000.0                           1  \n",
       "2    1000.0    1000.0    5000.0                           0  \n",
       "3    1100.0    1069.0    1000.0                           0  \n",
       "4    9000.0     689.0     679.0                           0  \n",
       "\n",
       "[5 rows x 25 columns]"
      ]
     },
     "execution_count": 49,
     "metadata": {},
     "output_type": "execute_result"
    }
   ],
   "source": [
    "# Loading Credit Card Default Dataset\n",
    "import pandas as pd\n",
    "df = pd.read_csv('https://raw.githubusercontent.com/kundan-raj301/Full-Stack-Data-Science/main/csv%20files/UCI_Credit_Card.csv')\n",
    "df.head()"
   ]
  },
  {
   "cell_type": "code",
   "execution_count": 50,
   "metadata": {},
   "outputs": [
    {
     "name": "stdout",
     "output_type": "stream",
     "text": [
      "<class 'pandas.core.frame.DataFrame'>\n",
      "RangeIndex: 4999 entries, 0 to 4998\n",
      "Data columns (total 25 columns):\n",
      " #   Column                      Non-Null Count  Dtype  \n",
      "---  ------                      --------------  -----  \n",
      " 0   ID                          4999 non-null   int64  \n",
      " 1   LIMIT_BAL                   4999 non-null   float64\n",
      " 2   SEX                         4999 non-null   int64  \n",
      " 3   EDUCATION                   4999 non-null   int64  \n",
      " 4   MARRIAGE                    4999 non-null   int64  \n",
      " 5   AGE                         4999 non-null   int64  \n",
      " 6   PAY_0                       4999 non-null   int64  \n",
      " 7   PAY_2                       4999 non-null   int64  \n",
      " 8   PAY_3                       4999 non-null   int64  \n",
      " 9   PAY_4                       4999 non-null   int64  \n",
      " 10  PAY_5                       4999 non-null   int64  \n",
      " 11  PAY_6                       4999 non-null   int64  \n",
      " 12  BILL_AMT1                   4999 non-null   int64  \n",
      " 13  BILL_AMT2                   4999 non-null   float64\n",
      " 14  BILL_AMT3                   4999 non-null   float64\n",
      " 15  BILL_AMT4                   4999 non-null   int64  \n",
      " 16  BILL_AMT5                   4999 non-null   int64  \n",
      " 17  BILL_AMT6                   4999 non-null   float64\n",
      " 18  PAY_AMT1                    4999 non-null   float64\n",
      " 19  PAY_AMT2                    4999 non-null   float64\n",
      " 20  PAY_AMT3                    4999 non-null   float64\n",
      " 21  PAY_AMT4                    4999 non-null   float64\n",
      " 22  PAY_AMT5                    4999 non-null   float64\n",
      " 23  PAY_AMT6                    4999 non-null   float64\n",
      " 24  default.payment.next.month  4999 non-null   int64  \n",
      "dtypes: float64(10), int64(15)\n",
      "memory usage: 976.5 KB\n"
     ]
    }
   ],
   "source": [
    "df.info()"
   ]
  },
  {
   "cell_type": "code",
   "execution_count": 51,
   "metadata": {},
   "outputs": [],
   "source": [
    "# Seperating X and Y\n",
    "X = df.drop(labels=['ID','default.payment.next.month'],axis=1)\n",
    "Y = df[['default.payment.next.month']]\n",
    "\n",
    "# Apply StandardScaler to X data\n",
    "from sklearn.preprocessing import StandardScaler\n",
    "scaler= StandardScaler()\n",
    "X_scaled = pd.DataFrame(scaler.fit_transform(X),columns=X.columns)"
   ]
  },
  {
   "cell_type": "code",
   "execution_count": 52,
   "metadata": {},
   "outputs": [
    {
     "name": "stdout",
     "output_type": "stream",
     "text": [
      "Variance Ratio: [0.29069393 0.17600874 0.06618997 0.06280771 0.04453711 0.04170857\n",
      " 0.04087693 0.03955631 0.03868692 0.03477307 0.03148649 0.02778305\n",
      " 0.02456959]\n",
      "\n",
      "Top 5 rows of transformed PCA data :\n",
      " [[-1.85760075 -0.82614465  0.18838767 -0.98524959 -1.03762484 -0.2797299\n",
      "  -0.01147831 -1.04220744  0.19185974  0.11480401  2.090919   -2.09522362\n",
      "  -1.31780411]\n",
      " [-0.74202389 -2.13659328 -1.11701542  0.27030282 -0.89113921  0.17242399\n",
      "   0.01497527  0.14952542  0.02799864 -0.30465671 -0.45690166  0.75074863\n",
      "   0.09239778]\n",
      " [-0.82594837 -1.07527579 -0.55667224 -0.08015302 -0.75587757 -0.07992163\n",
      "  -0.1894993  -0.11709376  0.03508152 -0.20899458 -0.03771238  0.34721839\n",
      "   0.49840583]\n",
      " [-0.15175153 -0.7730181   0.81644213 -0.24471586 -1.00891094 -0.22464066\n",
      "   0.25002918  0.05059109 -0.08600311 -0.04776538 -0.26718395  0.00603832\n",
      "  -0.72232768]\n",
      " [-0.70511482  0.09721052  2.23492205  1.31460739  1.00384252  0.45039823\n",
      "  -0.35871096  1.36224229 -0.72289582 -1.32598347 -0.65612923 -0.24115766\n",
      "  -0.0121481 ]]\n"
     ]
    }
   ],
   "source": [
    "# Performing PCA to transform X with 95% captured Variablity\n",
    "from sklearn.decomposition import PCA\n",
    "pca = PCA(0.90)\n",
    "X_pca = pca.fit_transform(X_scaled)\n",
    "# print the variance ratio explained by each principal component\n",
    "print(\"Variance Ratio:\", pca.explained_variance_ratio_)\n",
    "print('\\nTop 5 rows of transformed PCA data :\\n',X_pca[0:5])"
   ]
  },
  {
   "cell_type": "code",
   "execution_count": 53,
   "metadata": {},
   "outputs": [
    {
     "data": {
      "text/plain": [
       "(4999, 23)"
      ]
     },
     "execution_count": 53,
     "metadata": {},
     "output_type": "execute_result"
    }
   ],
   "source": [
    "X.shape"
   ]
  },
  {
   "cell_type": "code",
   "execution_count": 54,
   "metadata": {},
   "outputs": [
    {
     "data": {
      "text/plain": [
       "(4999, 13)"
      ]
     },
     "execution_count": 54,
     "metadata": {},
     "output_type": "execute_result"
    }
   ],
   "source": [
    "X_pca.shape"
   ]
  },
  {
   "cell_type": "markdown",
   "metadata": {},
   "source": [
    "### Above shows that 23 columns are now reduced only to 13 components using PCA with 90% explained variance"
   ]
  },
  {
   "attachments": {
    "2ff2f74f-3d5b-4cac-98b1-7f0c1567cf80.png": {
     "image/png": "[encoded data removed]"
    }
   },
   "cell_type": "markdown",
   "metadata": {},
   "source": [
    "![image.png](attachment:2ff2f74f-3d5b-4cac-98b1-7f0c1567cf80.png)"
   ]
  },
  {
   "cell_type": "markdown",
   "metadata": {},
   "source": [
    "## Answer :"
   ]
  },
  {
   "cell_type": "markdown",
   "metadata": {},
   "source": [
    "### In order to use Min-Max scaling to preprocess the data for a recommendation system for a food delivery service, I would follow these steps:\n",
    "\n",
    "1. Identify the numerical features that need to be scaled. In this case, we have three numerical features: price, rating, and delivery time.\n",
    "\n",
    "2. Apply the Min-Max scaling method to each feature independently. The formula for Min-Max scaling is as follows:\n",
    "\n",
    "~~~\n",
    "scaled_feature = (feature - min(feature)) / (max(feature) - min(feature))\n",
    "\n",
    "This formula scales each feature to a range of values between 0 and 1, where the minimum value in the original feature is mapped to 0, and the maximum value is mapped to 1.\n",
    "~~~\n",
    "\n",
    "3. Implement the Min-Max scaling method using a library such as Scikit-learn . Here is an example of how to implement Min-Max scaling using Scikit-learn:"
   ]
  },
  {
   "cell_type": "code",
   "execution_count": 55,
   "metadata": {},
   "outputs": [
    {
     "data": {
      "text/html": [
       "<div>\n",
       "<style scoped>\n",
       "    .dataframe tbody tr th:only-of-type {\n",
       "        vertical-align: middle;\n",
       "    }\n",
       "\n",
       "    .dataframe tbody tr th {\n",
       "        vertical-align: top;\n",
       "    }\n",
       "\n",
       "    .dataframe thead th {\n",
       "        text-align: right;\n",
       "    }\n",
       "</style>\n",
       "<table border=\"1\" class=\"dataframe\">\n",
       "  <thead>\n",
       "    <tr style=\"text-align: right;\">\n",
       "      <th></th>\n",
       "      <th>food_item</th>\n",
       "      <th>price</th>\n",
       "      <th>delivery_time</th>\n",
       "    </tr>\n",
       "  </thead>\n",
       "  <tbody>\n",
       "    <tr>\n",
       "      <th>0</th>\n",
       "      <td>pizza</td>\n",
       "      <td>500</td>\n",
       "      <td>30</td>\n",
       "    </tr>\n",
       "    <tr>\n",
       "      <th>1</th>\n",
       "      <td>burger</td>\n",
       "      <td>100</td>\n",
       "      <td>15</td>\n",
       "    </tr>\n",
       "    <tr>\n",
       "      <th>2</th>\n",
       "      <td>pasta</td>\n",
       "      <td>150</td>\n",
       "      <td>10</td>\n",
       "    </tr>\n",
       "    <tr>\n",
       "      <th>3</th>\n",
       "      <td>noodles</td>\n",
       "      <td>120</td>\n",
       "      <td>8</td>\n",
       "    </tr>\n",
       "  </tbody>\n",
       "</table>\n",
       "</div>"
      ],
      "text/plain": [
       "  food_item  price  delivery_time\n",
       "0     pizza    500             30\n",
       "1    burger    100             15\n",
       "2     pasta    150             10\n",
       "3   noodles    120              8"
      ]
     },
     "execution_count": 55,
     "metadata": {},
     "output_type": "execute_result"
    }
   ],
   "source": [
    "# Generating example data for explaing above\n",
    "import pandas as pd\n",
    "dct = {\n",
    "    'food_item':['pizza','burger','pasta','noodles'],\n",
    "    'price':[500,100,150,120],\n",
    "    'delivery_time':[30,15,10,8]\n",
    "}\n",
    "\n",
    "df = pd.DataFrame(dct)\n",
    "df"
   ]
  },
  {
   "cell_type": "code",
   "execution_count": 56,
   "metadata": {},
   "outputs": [
    {
     "data": {
      "text/html": [
       "<div>\n",
       "<style scoped>\n",
       "    .dataframe tbody tr th:only-of-type {\n",
       "        vertical-align: middle;\n",
       "    }\n",
       "\n",
       "    .dataframe tbody tr th {\n",
       "        vertical-align: top;\n",
       "    }\n",
       "\n",
       "    .dataframe thead th {\n",
       "        text-align: right;\n",
       "    }\n",
       "</style>\n",
       "<table border=\"1\" class=\"dataframe\">\n",
       "  <thead>\n",
       "    <tr style=\"text-align: right;\">\n",
       "      <th></th>\n",
       "      <th>price</th>\n",
       "      <th>delivery_time</th>\n",
       "    </tr>\n",
       "  </thead>\n",
       "  <tbody>\n",
       "    <tr>\n",
       "      <th>0</th>\n",
       "      <td>1.000</td>\n",
       "      <td>1.000000</td>\n",
       "    </tr>\n",
       "    <tr>\n",
       "      <th>1</th>\n",
       "      <td>0.000</td>\n",
       "      <td>0.318182</td>\n",
       "    </tr>\n",
       "    <tr>\n",
       "      <th>2</th>\n",
       "      <td>0.125</td>\n",
       "      <td>0.090909</td>\n",
       "    </tr>\n",
       "    <tr>\n",
       "      <th>3</th>\n",
       "      <td>0.050</td>\n",
       "      <td>0.000000</td>\n",
       "    </tr>\n",
       "  </tbody>\n",
       "</table>\n",
       "</div>"
      ],
      "text/plain": [
       "   price  delivery_time\n",
       "0  1.000       1.000000\n",
       "1  0.000       0.318182\n",
       "2  0.125       0.090909\n",
       "3  0.050       0.000000"
      ]
     },
     "execution_count": 56,
     "metadata": {},
     "output_type": "execute_result"
    }
   ],
   "source": [
    "# Extract the numerical features\n",
    "X_num = df[['price','delivery_time']]\n",
    "\n",
    "# Apply Min-Max scaling to the numerical features\n",
    "from sklearn.preprocessing import MinMaxScaler\n",
    "scaler = MinMaxScaler()\n",
    "X_scaled = pd.DataFrame(scaler.fit_transform(X_num),\n",
    "                        columns=X_num.columns)\n",
    "X_scaled"
   ]
  },
  {
   "cell_type": "markdown",
   "metadata": {},
   "source": [
    "### By applying Min-Max scaling to the numerical features, we ensure that the different features are on a similar scale, which can help improve the performance of machine learning models and recommendation algorithms that use the data."
   ]
  },
  {
   "attachments": {
    "431c1908-4568-499f-9c10-365a6b56b7a2.png": {
     "image/png": "[encoded data removed]"
    }
   },
   "cell_type": "markdown",
   "metadata": {},
   "source": [
    "![image.png](attachment:431c1908-4568-499f-9c10-365a6b56b7a2.png)\n"
   ]
  },
  {
   "cell_type": "markdown",
   "metadata": {},
   "source": [
    "## Answer :"
   ]
  },
  {
   "cell_type": "markdown",
   "metadata": {},
   "source": [
    "### PCA (Principal Component Analysis) is a dimensionality reduction technique that is commonly used to reduce the number of features in a dataset while retaining the most important information. In the context of building a model to predict stock prices, we could use PCA to reduce the dimensionality of the dataset by identifying the most significant features that are driving the stock price movement.\n",
    "\n",
    "### Here is a step-by-step approach to using PCA for this purpose:\n",
    "\n",
    "1. Standardize the data: The first step is to standardize the data by subtracting the mean and dividing by the standard deviation. This ensures that all features have the same scale and helps to improve the performance of PCA.\n",
    "\n",
    "2. Compute the covariance matrix: Next, we compute the covariance matrix of the standardized data. The covariance matrix represents the relationships between the different features in the dataset.\n",
    "\n",
    "3. Compute the eigenvectors and eigenvalues: We then calculate the eigenvectors and eigenvalues of the covariance matrix. The eigenvectors represent the directions in which the data varies the most, while the eigenvalues represent the magnitude of the variation.\n",
    "\n",
    "4. Select the principal components: We then select the top k eigenvectors with the highest eigenvalues. These eigenvectors are known as the principal components and represent the most important features in the dataset.\n",
    "\n",
    "5. Project the data onto the principal components: Finally, we project the original data onto the selected principal components to obtain a new, reduced-dimensional dataset. This dataset can then be used as input to a machine learning algorithm to predict stock prices.\n",
    "\n",
    "### Can import PCA library from sklearn.decompose module\n",
    "\n",
    "~~~python \n",
    "from sklearn.decompose import PCA\n",
    "# Capture 95% explained variability with PCA module\n",
    "pca = PCA(0.95)\n",
    "X_pca = pca.fit_transform(X)\n",
    "# print the variance ratio explained by each principal component\n",
    "print(\"Variance Ratio:\", pca.explained_variance_ratio_)\n",
    "print('\\nTop 5 rows of transformed PCA data :\\n',X_pca[0:5])\n",
    "~~~\n",
    "\n",
    "### By reducing the dimensionality of the dataset using PCA, we can simplify the problem of predicting stock prices and potentially improve the performance of our model. However, it is important to note that PCA may not always improve the performance of a model and should be evaluated carefully in each specific case."
   ]
  },
  {
   "attachments": {
    "10454ffc-4ff4-452a-b45d-4d5b9eaf1f44.png": {
     "image/png": "[encoded data removed]"
    }
   },
   "cell_type": "markdown",
   "metadata": {},
   "source": [
    "![image.png](attachment:10454ffc-4ff4-452a-b45d-4d5b9eaf1f44.png)"
   ]
  },
  {
   "cell_type": "markdown",
   "metadata": {},
   "source": [
    "## Answer :"
   ]
  },
  {
   "cell_type": "code",
   "execution_count": 57,
   "metadata": {},
   "outputs": [
    {
     "name": "stdout",
     "output_type": "stream",
     "text": [
      "[-1.         -0.57894737 -0.05263158  0.47368421  1.        ]\n"
     ]
    }
   ],
   "source": [
    "from sklearn.preprocessing import MinMaxScaler\n",
    "import numpy as np\n",
    "\n",
    "# Define the dataset\n",
    "data = np.array([1, 5, 10, 15, 20])\n",
    "\n",
    "# Create an instance of the MinMaxScaler\n",
    "scaler = MinMaxScaler(feature_range=(-1, 1))\n",
    "\n",
    "# Fit and transform the data using the scaler\n",
    "data_scaled = scaler.fit_transform(data.reshape(-1,1))\n",
    "\n",
    "print(data_scaled.flatten())"
   ]
  },
  {
   "attachments": {
    "8e4a97dd-e3fc-4ff7-b69e-1a2c0d33c692.png": {
     "image/png": "[encoded data removed]"
    }
   },
   "cell_type": "markdown",
   "metadata": {},
   "source": [
    "![image.png](attachment:8e4a97dd-e3fc-4ff7-b69e-1a2c0d33c692.png)"
   ]
  },
  {
   "cell_type": "markdown",
   "metadata": {},
   "source": [
    "## Answer :"
   ]
  },
  {
   "cell_type": "markdown",
   "metadata": {},
   "source": [
    "### The number of principal components to retain in PCA depends on the level of variance we want to preserve in the dataset. In general, we want to retain enough principal components to explain a significant portion of the total variance in the data, while also keeping the number of features as small as possible.\n",
    "\n",
    "### To determine how many principal components to retain for the given dataset containing the features height, weight, age, gender, and blood pressure, we would perform the following steps:\n",
    "\n",
    "1. Standardize the data: We would first standardize the data by subtracting the mean and dividing by the standard deviation. This ensures that all features have the same scale and helps to improve the performance of PCA.\n",
    "\n",
    "2. Compute the covariance matrix: Next, we would compute the covariance matrix of the standardized data. The covariance matrix represents the relationships between the different features in the dataset.\n",
    "\n",
    "3. Compute the eigenvectors and eigenvalues: We would then calculate the eigenvectors and eigenvalues of the covariance matrix. The eigenvectors represent the directions in which the data varies the most, while the eigenvalues represent the magnitude of the variation.\n",
    "\n",
    "4. Select the principal components: We would then select the top k eigenvectors with the highest eigenvalues. These eigenvectors are known as the principal components and represent the most important features in the dataset.\n",
    "\n",
    "5. Evaluate the explained variance: Finally, we would evaluate the amount of variance explained by each principal component and choose the number of principal components that preserve a significant portion of the total variance in the data.\n",
    "\n",
    "### Typically, we would select the number of principal components that can explain at least 80% of the total variance in the data. However, the exact number of principal components to retain may depend on the specific dataset and the problem we are trying to solve.\n",
    "\n",
    "### In summary, we would need to perform PCA on the given dataset to determine the optimal number of principal components to retain based on the amount of variance we want to preserve."
   ]
  },
  {
   "cell_type": "markdown",
   "metadata": {},
   "source": [
    "### Below is Example code of How I would Perform PCA on above components :"
   ]
  },
  {
   "cell_type": "code",
   "execution_count": 68,
   "metadata": {},
   "outputs": [
    {
     "data": {
      "text/html": [
       "<div>\n",
       "<style scoped>\n",
       "    .dataframe tbody tr th:only-of-type {\n",
       "        vertical-align: middle;\n",
       "    }\n",
       "\n",
       "    .dataframe tbody tr th {\n",
       "        vertical-align: top;\n",
       "    }\n",
       "\n",
       "    .dataframe thead th {\n",
       "        text-align: right;\n",
       "    }\n",
       "</style>\n",
       "<table border=\"1\" class=\"dataframe\">\n",
       "  <thead>\n",
       "    <tr style=\"text-align: right;\">\n",
       "      <th></th>\n",
       "      <th>Height</th>\n",
       "      <th>Weight</th>\n",
       "      <th>Age</th>\n",
       "      <th>Gender</th>\n",
       "      <th>Blood Pressure</th>\n",
       "    </tr>\n",
       "  </thead>\n",
       "  <tbody>\n",
       "    <tr>\n",
       "      <th>0</th>\n",
       "      <td>197.264488</td>\n",
       "      <td>78.301335</td>\n",
       "      <td>37</td>\n",
       "      <td>Male</td>\n",
       "      <td>123.426840</td>\n",
       "    </tr>\n",
       "    <tr>\n",
       "      <th>1</th>\n",
       "      <td>181.909333</td>\n",
       "      <td>71.500660</td>\n",
       "      <td>41</td>\n",
       "      <td>Female</td>\n",
       "      <td>103.227835</td>\n",
       "    </tr>\n",
       "    <tr>\n",
       "      <th>2</th>\n",
       "      <td>172.938287</td>\n",
       "      <td>86.183821</td>\n",
       "      <td>46</td>\n",
       "      <td>Male</td>\n",
       "      <td>143.637328</td>\n",
       "    </tr>\n",
       "    <tr>\n",
       "      <th>3</th>\n",
       "      <td>188.764607</td>\n",
       "      <td>84.627080</td>\n",
       "      <td>55</td>\n",
       "      <td>Female</td>\n",
       "      <td>113.360023</td>\n",
       "    </tr>\n",
       "    <tr>\n",
       "      <th>4</th>\n",
       "      <td>165.582489</td>\n",
       "      <td>65.257311</td>\n",
       "      <td>63</td>\n",
       "      <td>Female</td>\n",
       "      <td>116.065510</td>\n",
       "    </tr>\n",
       "  </tbody>\n",
       "</table>\n",
       "</div>"
      ],
      "text/plain": [
       "       Height     Weight  Age  Gender  Blood Pressure\n",
       "0  197.264488  78.301335   37    Male      123.426840\n",
       "1  181.909333  71.500660   41  Female      103.227835\n",
       "2  172.938287  86.183821   46    Male      143.637328\n",
       "3  188.764607  84.627080   55  Female      113.360023\n",
       "4  165.582489  65.257311   63  Female      116.065510"
      ]
     },
     "execution_count": 68,
     "metadata": {},
     "output_type": "execute_result"
    }
   ],
   "source": [
    "# Generating random data with given features\n",
    "import numpy as np\n",
    "import pandas as pd\n",
    "\n",
    "# Set the seed for reproducibility\n",
    "np.random.seed(678)\n",
    "\n",
    "# Generate random data for each feature\n",
    "height = np.random.normal(loc=170, scale=10, size=10000)\n",
    "weight = np.random.normal(loc=70, scale=10, size=10000)\n",
    "age = np.random.randint(18, 65, size=10000)\n",
    "gender = np.random.choice(['Male', 'Female'], size=10000)\n",
    "blood_pressure = np.random.normal(loc=120, scale=10, size=10000)\n",
    "\n",
    "# Combine the data into a Pandas DataFrame\n",
    "data = pd.DataFrame({'Height': height, \n",
    "                     'Weight': weight, \n",
    "                     'Age': age, \n",
    "                     'Gender': gender, \n",
    "                     'Blood Pressure': blood_pressure})\n",
    "\n",
    "# Print the first 5 rows of the data\n",
    "data.head()"
   ]
  },
  {
   "cell_type": "code",
   "execution_count": 69,
   "metadata": {},
   "outputs": [
    {
     "name": "stdout",
     "output_type": "stream",
     "text": [
      "Categorical Variables :  ['Gender']\n",
      "Numerical Variables   :  ['Height', 'Weight', 'Age', 'Blood Pressure']\n"
     ]
    }
   ],
   "source": [
    "# Seperating categorical and numerical variables in data \n",
    "cat_cols = list(data.columns[data.dtypes == 'object'])\n",
    "num_cols = list(data.columns[data.dtypes != 'object'])\n",
    "# Print Categorical and Numeric Variables\n",
    "print('Categorical Variables : ',cat_cols)\n",
    "print('Numerical Variables   : ',num_cols)"
   ]
  },
  {
   "cell_type": "code",
   "execution_count": 70,
   "metadata": {},
   "outputs": [
    {
     "data": {
      "text/html": [
       "<div>\n",
       "<style scoped>\n",
       "    .dataframe tbody tr th:only-of-type {\n",
       "        vertical-align: middle;\n",
       "    }\n",
       "\n",
       "    .dataframe tbody tr th {\n",
       "        vertical-align: top;\n",
       "    }\n",
       "\n",
       "    .dataframe thead th {\n",
       "        text-align: right;\n",
       "    }\n",
       "</style>\n",
       "<table border=\"1\" class=\"dataframe\">\n",
       "  <thead>\n",
       "    <tr style=\"text-align: right;\">\n",
       "      <th></th>\n",
       "      <th>Height</th>\n",
       "      <th>Weight</th>\n",
       "      <th>Age</th>\n",
       "      <th>Gender</th>\n",
       "      <th>Blood Pressure</th>\n",
       "    </tr>\n",
       "  </thead>\n",
       "  <tbody>\n",
       "    <tr>\n",
       "      <th>0</th>\n",
       "      <td>197.264488</td>\n",
       "      <td>78.301335</td>\n",
       "      <td>37</td>\n",
       "      <td>1</td>\n",
       "      <td>123.426840</td>\n",
       "    </tr>\n",
       "    <tr>\n",
       "      <th>1</th>\n",
       "      <td>181.909333</td>\n",
       "      <td>71.500660</td>\n",
       "      <td>41</td>\n",
       "      <td>0</td>\n",
       "      <td>103.227835</td>\n",
       "    </tr>\n",
       "    <tr>\n",
       "      <th>2</th>\n",
       "      <td>172.938287</td>\n",
       "      <td>86.183821</td>\n",
       "      <td>46</td>\n",
       "      <td>1</td>\n",
       "      <td>143.637328</td>\n",
       "    </tr>\n",
       "    <tr>\n",
       "      <th>3</th>\n",
       "      <td>188.764607</td>\n",
       "      <td>84.627080</td>\n",
       "      <td>55</td>\n",
       "      <td>0</td>\n",
       "      <td>113.360023</td>\n",
       "    </tr>\n",
       "    <tr>\n",
       "      <th>4</th>\n",
       "      <td>165.582489</td>\n",
       "      <td>65.257311</td>\n",
       "      <td>63</td>\n",
       "      <td>0</td>\n",
       "      <td>116.065510</td>\n",
       "    </tr>\n",
       "  </tbody>\n",
       "</table>\n",
       "</div>"
      ],
      "text/plain": [
       "       Height     Weight  Age  Gender  Blood Pressure\n",
       "0  197.264488  78.301335   37       1      123.426840\n",
       "1  181.909333  71.500660   41       0      103.227835\n",
       "2  172.938287  86.183821   46       1      143.637328\n",
       "3  188.764607  84.627080   55       0      113.360023\n",
       "4  165.582489  65.257311   63       0      116.065510"
      ]
     },
     "execution_count": 70,
     "metadata": {},
     "output_type": "execute_result"
    }
   ],
   "source": [
    "# Converting Categotrical variables to Label Encoder\n",
    "from sklearn.preprocessing import LabelEncoder\n",
    "le = LabelEncoder()\n",
    "data[cat_cols[0]]=le.fit_transform(data[cat_cols].values.flatten())\n",
    "data.head()"
   ]
  },
  {
   "cell_type": "code",
   "execution_count": 71,
   "metadata": {},
   "outputs": [
    {
     "data": {
      "text/html": [
       "<div>\n",
       "<style scoped>\n",
       "    .dataframe tbody tr th:only-of-type {\n",
       "        vertical-align: middle;\n",
       "    }\n",
       "\n",
       "    .dataframe tbody tr th {\n",
       "        vertical-align: top;\n",
       "    }\n",
       "\n",
       "    .dataframe thead th {\n",
       "        text-align: right;\n",
       "    }\n",
       "</style>\n",
       "<table border=\"1\" class=\"dataframe\">\n",
       "  <thead>\n",
       "    <tr style=\"text-align: right;\">\n",
       "      <th></th>\n",
       "      <th>Height</th>\n",
       "      <th>Weight</th>\n",
       "      <th>Age</th>\n",
       "      <th>Gender</th>\n",
       "      <th>Blood Pressure</th>\n",
       "    </tr>\n",
       "  </thead>\n",
       "  <tbody>\n",
       "    <tr>\n",
       "      <th>0</th>\n",
       "      <td>2.763392</td>\n",
       "      <td>0.839863</td>\n",
       "      <td>-0.294147</td>\n",
       "      <td>0.99561</td>\n",
       "      <td>0.348117</td>\n",
       "    </tr>\n",
       "    <tr>\n",
       "      <th>1</th>\n",
       "      <td>1.212299</td>\n",
       "      <td>0.157775</td>\n",
       "      <td>0.003407</td>\n",
       "      <td>-1.00441</td>\n",
       "      <td>-1.689637</td>\n",
       "    </tr>\n",
       "    <tr>\n",
       "      <th>2</th>\n",
       "      <td>0.306094</td>\n",
       "      <td>1.630453</td>\n",
       "      <td>0.375350</td>\n",
       "      <td>0.99561</td>\n",
       "      <td>2.387031</td>\n",
       "    </tr>\n",
       "    <tr>\n",
       "      <th>3</th>\n",
       "      <td>1.904781</td>\n",
       "      <td>1.474316</td>\n",
       "      <td>1.044847</td>\n",
       "      <td>-1.00441</td>\n",
       "      <td>-0.667462</td>\n",
       "    </tr>\n",
       "    <tr>\n",
       "      <th>4</th>\n",
       "      <td>-0.436947</td>\n",
       "      <td>-0.468415</td>\n",
       "      <td>1.639956</td>\n",
       "      <td>-1.00441</td>\n",
       "      <td>-0.394522</td>\n",
       "    </tr>\n",
       "  </tbody>\n",
       "</table>\n",
       "</div>"
      ],
      "text/plain": [
       "     Height    Weight       Age   Gender  Blood Pressure\n",
       "0  2.763392  0.839863 -0.294147  0.99561        0.348117\n",
       "1  1.212299  0.157775  0.003407 -1.00441       -1.689637\n",
       "2  0.306094  1.630453  0.375350  0.99561        2.387031\n",
       "3  1.904781  1.474316  1.044847 -1.00441       -0.667462\n",
       "4 -0.436947 -0.468415  1.639956 -1.00441       -0.394522"
      ]
     },
     "execution_count": 71,
     "metadata": {},
     "output_type": "execute_result"
    }
   ],
   "source": [
    "# Applying StandardScaler to entire dataframe\n",
    "from sklearn.preprocessing import StandardScaler\n",
    "scaler = StandardScaler()\n",
    "data_scaled = pd.DataFrame(scaler.fit_transform(data),columns=data.columns)\n",
    "data_scaled.head()"
   ]
  },
  {
   "cell_type": "code",
   "execution_count": 72,
   "metadata": {},
   "outputs": [
    {
     "name": "stdout",
     "output_type": "stream",
     "text": [
      "Variance Ratio: [0.20491989 0.20113817 0.20024048]\n",
      "\n",
      "Top 5 rows of transformed PCA data :\n",
      "         PC1       PC2       PC3\n",
      "0  0.179922 -1.464986  0.664593\n",
      "1 -0.536445 -1.423220  1.533594\n",
      "2  2.149224  0.738165 -0.709998\n",
      "3  1.316837 -1.776677  1.784522\n",
      "4  0.597166 -0.539852  0.356913\n"
     ]
    }
   ],
   "source": [
    "# Perform PCA with 3 components\n",
    "from sklearn.decomposition import PCA\n",
    "pca = PCA(n_components=3)\n",
    "\n",
    "X_pca = pd.DataFrame(pca.fit_transform(data_scaled),columns=['PC1','PC2','PC3'])\n",
    "# print the variance ratio explained by each principal component\n",
    "print(\"Variance Ratio:\", pca.explained_variance_ratio_)\n",
    "print('\\nTop 5 rows of transformed PCA data :\\n',X_pca.head())"
   ]
  },
  {
   "cell_type": "markdown",
   "metadata": {},
   "source": [
    "### Selected 3 Principal Components as it covers 80% of explained Variance"
   ]
  }
 ],
 "metadata": {
  "kernelspec": {
   "display_name": "Python 3 (ipykernel)",
   "language": "python",
   "name": "python3"
  },
  "language_info": {
   "codemirror_mode": {
    "name": "ipython",
    "version": 3
   },
   "file_extension": ".py",
   "mimetype": "text/x-python",
   "name": "python",
   "nbconvert_exporter": "python",
   "pygments_lexer": "ipython3",
   "version": "3.10.8"
  }
 },
 "nbformat": 4,
 "nbformat_minor": 4
}
