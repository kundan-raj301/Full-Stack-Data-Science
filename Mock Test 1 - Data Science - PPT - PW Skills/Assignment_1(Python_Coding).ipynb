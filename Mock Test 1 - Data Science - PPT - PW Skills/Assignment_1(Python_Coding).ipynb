{
 "cells": [
  {
   "cell_type": "markdown",
   "metadata": {
    "id": "-iWNy9XuRjTD"
   },
   "source": [
    "## Q1. Write a Python program to reverse a string without using any built-in string reversal functions.\n"
   ]
  },
  {
   "cell_type": "code",
   "execution_count": 1,
   "metadata": {
    "colab": {
     "base_uri": "https://localhost:8080/"
    },
    "id": "cGQKJy5bQb5p",
    "outputId": "a6d36550-8f77-4678-8563-5d67eaf47308"
   },
   "outputs": [
    {
     "name": "stdout",
     "output_type": "stream",
     "text": [
      "Reversed string :  nadnuK\n"
     ]
    }
   ],
   "source": [
    "my_string=(\"Kundan\")\n",
    "str=\"\"\n",
    "for i in my_string:\n",
    "    str=i+str\n",
    "print(\"Reversed string : \" ,str)"
   ]
  },
  {
   "cell_type": "markdown",
   "metadata": {
    "id": "m7NTsDR_RrJI"
   },
   "source": [
    "## Q2. Implement a function to check if a given string is a palindrome."
   ]
  },
  {
   "cell_type": "code",
   "execution_count": 4,
   "metadata": {
    "colab": {
     "base_uri": "https://localhost:8080/"
    },
    "id": "lWjMin7pQKhp",
    "outputId": "e2553a00-45ef-45cc-97c6-9bbc06c3f049"
   },
   "outputs": [
    {
     "name": "stdin",
     "output_type": "stream",
     "text": [
      "Enter the string malayalam\n"
     ]
    },
    {
     "name": "stdout",
     "output_type": "stream",
     "text": [
      "The string is palindrome\n"
     ]
    }
   ],
   "source": [
    "string = input(\"Enter the string\")\n",
    "if (string == string[::-1]):\n",
    "  print(\"The string is palindrome\")\n",
    "else:\n",
    "  print(\"The string is not palindrome\")"
   ]
  },
  {
   "cell_type": "markdown",
   "metadata": {
    "id": "YmY0Zf4EXLMj"
   },
   "source": [
    "## Q3. Write a program to find the largest element in a given list.\n"
   ]
  },
  {
   "cell_type": "code",
   "execution_count": 6,
   "metadata": {
    "colab": {
     "base_uri": "https://localhost:8080/"
    },
    "id": "IRdcdxohQLHY",
    "outputId": "988bc822-9df1-488a-feb6-69aa34c66832"
   },
   "outputs": [
    {
     "name": "stdout",
     "output_type": "stream",
     "text": [
      "Largest element is: 20\n"
     ]
    }
   ],
   "source": [
    "a=[1,20,13,9,15]\n",
    "a.sort()\n",
    "print(\"Largest element is:\", a[-1])\n",
    "\n",
    "\n"
   ]
  },
  {
   "cell_type": "markdown",
   "metadata": {
    "id": "_ggOKcgMXyhW"
   },
   "source": [
    "## Q4. Implement a function to count the occurrence of each element in a list."
   ]
  },
  {
   "cell_type": "code",
   "execution_count": 4,
   "metadata": {
    "colab": {
     "base_uri": "https://localhost:8080/"
    },
    "id": "MUEMwdXjYOM7",
    "outputId": "28d94e6d-97b4-41f6-8baf-2982906b628c"
   },
   "outputs": [
    {
     "name": "stdout",
     "output_type": "stream",
     "text": [
      "{1: 2, 2: 3, 3: 2, 4: 2, 5: 1}\n"
     ]
    }
   ],
   "source": [
    "def count_occurrences(lst):\n",
    "    counts = {}\n",
    "    for item in lst:\n",
    "        if item in counts:\n",
    "            counts[item] += 1\n",
    "        else:\n",
    "            counts[item] = 1\n",
    "    return counts\n",
    "\n",
    "\n",
    "my_list = [1, 2, 3, 2, 4, 1, 2, 3, 4, 5]\n",
    "occurrence_counts = count_occurrences(my_list)\n",
    "print(occurrence_counts)\n"
   ]
  },
  {
   "cell_type": "markdown",
   "metadata": {
    "id": "LrOTwwE5Y20R"
   },
   "source": [
    "## Q5. Write a Python program to find the second largest number in a list.\n"
   ]
  },
  {
   "cell_type": "code",
   "execution_count": 5,
   "metadata": {
    "colab": {
     "base_uri": "https://localhost:8080/"
    },
    "id": "DVhm5tKGY5vh",
    "outputId": "6e32ad70-0e81-4415-fbad-409b9b539c31"
   },
   "outputs": [
    {
     "name": "stdout",
     "output_type": "stream",
     "text": [
      "Second Largest no is  56\n"
     ]
    }
   ],
   "source": [
    "a=[2,3,12,94,23,34,56]\n",
    "a.sort()\n",
    "print(\"Second Largest no is \" ,a[-2])"
   ]
  },
  {
   "cell_type": "markdown",
   "metadata": {
    "id": "a8teePvtZpH5"
   },
   "source": [
    "## Q6. Implement a function to remove duplicate elements from a list.\n"
   ]
  },
  {
   "cell_type": "code",
   "execution_count": 6,
   "metadata": {
    "colab": {
     "base_uri": "https://localhost:8080/"
    },
    "id": "ZKgNOB7nZVwI",
    "outputId": "4f1a0a12-97c6-4408-e02e-e6af1ec4fd44"
   },
   "outputs": [
    {
     "name": "stdout",
     "output_type": "stream",
     "text": [
      "[2, 3, 4, 5, 6, 7, 9]\n"
     ]
    }
   ],
   "source": [
    "a=[2,3,4,3,4,5,6,7,9,7,9]\n",
    "res=[]\n",
    "for i in a:\n",
    "  if i not in res:\n",
    "    res.append(i)\n",
    "print(res)\n"
   ]
  },
  {
   "cell_type": "markdown",
   "metadata": {
    "id": "Jx54O7_uTtJI"
   },
   "source": [
    "## Q7. Write a program to calculate the factorial of a given number.\n"
   ]
  },
  {
   "cell_type": "code",
   "execution_count": 7,
   "metadata": {
    "colab": {
     "base_uri": "https://localhost:8080/"
    },
    "id": "xLw64PjjSh5w",
    "outputId": "c650407e-5f52-4b3b-89d3-cce113d709c8"
   },
   "outputs": [
    {
     "name": "stdout",
     "output_type": "stream",
     "text": [
      "120\n"
     ]
    }
   ],
   "source": [
    "def fact(num):\n",
    "  if num==0:\n",
    "    return 1\n",
    "  else:\n",
    "    return num*fact(num-1)\n",
    "\n",
    "x=fact(5)\n",
    "print(x)"
   ]
  },
  {
   "cell_type": "markdown",
   "metadata": {
    "id": "TfI_6juOUj60"
   },
   "source": [
    "## Q8. Implement a function to check if a given number is prime.\n"
   ]
  },
  {
   "cell_type": "code",
   "execution_count": 8,
   "metadata": {
    "colab": {
     "base_uri": "https://localhost:8080/"
    },
    "id": "UX9flnL9UG7l",
    "outputId": "e9c17b5a-5b0a-4eb8-e87e-c665fe75207c"
   },
   "outputs": [
    {
     "name": "stdout",
     "output_type": "stream",
     "text": [
      "Enter the number 23\n",
      "This is not prime\n"
     ]
    }
   ],
   "source": [
    "number=int(input(\"Enter the number \"))\n",
    "prime=True\n",
    "for i in range(2,number):\n",
    "    if (number%1==0):\n",
    "      prime=False\n",
    "      break\n",
    "if prime:\n",
    "  print(\" This number is prime :\")\n",
    "else:\n",
    "  print(\"This is not prime\")"
   ]
  },
  {
   "cell_type": "markdown",
   "metadata": {
    "id": "zga8T9opW9gg"
   },
   "source": [
    "## Q9. Write a Python program to sort a list of integers in ascending order.\n"
   ]
  },
  {
   "cell_type": "code",
   "execution_count": 9,
   "metadata": {
    "colab": {
     "base_uri": "https://localhost:8080/"
    },
    "id": "pWN-rO8GXBgK",
    "outputId": "429d3129-2588-45a6-8f22-dc8f14fbc0ba"
   },
   "outputs": [
    {
     "name": "stdout",
     "output_type": "stream",
     "text": [
      "Sorted list: [1, 2, 3, 5, 7, 9]\n"
     ]
    }
   ],
   "source": [
    "def sort_list(lst):\n",
    "    return sorted(lst)\n",
    "\n",
    "my_list = [5, 2, 9, 1, 7, 3]\n",
    "sorted_list = sort_list(my_list)\n",
    "print(\"Sorted list:\", sorted_list)\n"
   ]
  },
  {
   "cell_type": "markdown",
   "metadata": {
    "id": "S-FtO3dFb3vV"
   },
   "source": [
    "## Q10. Implement a function to find the sum of all numbers in a list.\n"
   ]
  },
  {
   "cell_type": "code",
   "execution_count": 10,
   "metadata": {
    "colab": {
     "base_uri": "https://localhost:8080/"
    },
    "id": "wmHJI9mJb6Mf",
    "outputId": "626c8b41-89ab-4bda-e734-17e0f4e0df08"
   },
   "outputs": [
    {
     "name": "stdout",
     "output_type": "stream",
     "text": [
      "Sum of numbers: 15\n"
     ]
    }
   ],
   "source": [
    "def calculate_sum(lst):\n",
    "    return sum(lst)\n",
    "\n",
    "# Example usage\n",
    "my_list = [1, 2, 3, 4, 5]\n",
    "sum_of_numbers = calculate_sum(my_list)\n",
    "print(\"Sum of numbers:\", sum_of_numbers)\n"
   ]
  },
  {
   "cell_type": "markdown",
   "metadata": {
    "id": "myIu8hRhcQ1a"
   },
   "source": [
    "## Q11. Write a program to find the common elements between two lists.\n"
   ]
  },
  {
   "cell_type": "code",
   "execution_count": 11,
   "metadata": {
    "colab": {
     "base_uri": "https://localhost:8080/"
    },
    "id": "qrmU0l99cJbE",
    "outputId": "5b2a2f4c-60b0-4405-9e61-83c8e9c03d31"
   },
   "outputs": [
    {
     "name": "stdout",
     "output_type": "stream",
     "text": [
      "Common elements: [4, 5]\n"
     ]
    }
   ],
   "source": [
    "def find_common_elements(list1, list2):\n",
    "    common_elements = []\n",
    "    for element in list1:\n",
    "        if element in list2 and element not in common_elements:\n",
    "            common_elements.append(element)\n",
    "    return common_elements\n",
    "\n",
    "# Example usage\n",
    "list1 = [1, 2, 3, 4, 5]\n",
    "list2 = [4, 5, 6, 7, 8]\n",
    "common_elements = find_common_elements(list1, list2)\n",
    "print(\"Common elements:\", common_elements)\n"
   ]
  },
  {
   "cell_type": "markdown",
   "metadata": {
    "id": "hICxULs0ci_V",
    "tags": []
   },
   "source": [
    "## Q12. Implement a function to check if a given string is an anagram of another string.\n"
   ]
  },
  {
   "cell_type": "code",
   "execution_count": 1,
   "metadata": {
    "colab": {
     "base_uri": "https://localhost:8080/"
    },
    "id": "dF2myGw4conG",
    "outputId": "c76be899-e459-441b-9f55-79b172d882c3"
   },
   "outputs": [
    {
     "name": "stdin",
     "output_type": "stream",
     "text": [
      "Enter the first string:  listen\n",
      "Enter the second string:  silent\n"
     ]
    },
    {
     "name": "stdout",
     "output_type": "stream",
     "text": [
      "The strings are anagrams.\n"
     ]
    }
   ],
   "source": [
    "def is_anagram(string1, string2):\n",
    "    # Remove spaces and convert to lowercase\n",
    "    string1 = string1.replace(\" \", \"\").lower()\n",
    "    string2 = string2.replace(\" \", \"\").lower()\n",
    "\n",
    "    # Check if the lengths are equal\n",
    "    if len(string1) != len(string2):\n",
    "        return False\n",
    "\n",
    "    # Create dictionaries to count character occurrences\n",
    "    count1 = {}\n",
    "    count2 = {}\n",
    "\n",
    "    # Count character occurrences in string1\n",
    "    for char in string1:\n",
    "        if char in count1:\n",
    "            count1[char] += 1\n",
    "        else:\n",
    "            count1[char] = 1\n",
    "\n",
    "    # Count character occurrences in string2\n",
    "    for char in string2:\n",
    "        if char in count2:\n",
    "            count2[char] += 1\n",
    "        else:\n",
    "            count2[char] = 1\n",
    "\n",
    "    # Compare the dictionaries\n",
    "    if count1 == count2:\n",
    "        return True\n",
    "    else:\n",
    "        return False\n",
    "\n",
    "# Example usage\n",
    "input_string1 = input(\"Enter the first string: \")\n",
    "input_string2 = input(\"Enter the second string: \")\n",
    "\n",
    "if is_anagram(input_string1, input_string2):\n",
    "    print(\"The strings are anagrams.\")\n",
    "else:\n",
    "    print(\"The strings are not anagrams.\")\n"
   ]
  },
  {
   "cell_type": "markdown",
   "metadata": {
    "id": "Hu6F_uhBl4O4"
   },
   "source": [
    "## Q13. Write a Python program to generate all permutations of a given string.\n"
   ]
  },
  {
   "cell_type": "code",
   "execution_count": 3,
   "metadata": {
    "colab": {
     "base_uri": "https://localhost:8080/"
    },
    "id": "623o8xk7luht",
    "outputId": "b26fc99d-4b7d-4849-ba16-f307ffcf69e2"
   },
   "outputs": [
    {
     "name": "stdin",
     "output_type": "stream",
     "text": [
      "Enter a string:  golu\n"
     ]
    },
    {
     "name": "stdout",
     "output_type": "stream",
     "text": [
      "Permutations:\n",
      "golu\n",
      "goul\n",
      "glou\n",
      "gluo\n",
      "guol\n",
      "gulo\n",
      "oglu\n",
      "ogul\n",
      "olgu\n",
      "olug\n",
      "ougl\n",
      "oulg\n",
      "lgou\n",
      "lguo\n",
      "logu\n",
      "loug\n",
      "lugo\n",
      "luog\n",
      "ugol\n",
      "uglo\n",
      "uogl\n",
      "uolg\n",
      "ulgo\n",
      "ulog\n"
     ]
    }
   ],
   "source": [
    "def generate_permutations(string):\n",
    "    # Base case: If the string has only one character, return it as the only permutation\n",
    "    if len(string) == 1:\n",
    "        return [string]\n",
    "\n",
    "    # List to store all permutations\n",
    "    permutations = []\n",
    "\n",
    "    # Generate permutations for each character in the string\n",
    "    for i in range(len(string)):\n",
    "        # Extract the current character\n",
    "        current_char = string[i]\n",
    "\n",
    "        # Generate permutations of the remaining characters\n",
    "        remaining_chars = string[:i] + string[i + 1:]\n",
    "        remaining_permutations = generate_permutations(remaining_chars)\n",
    "\n",
    "        # Add the current character to the beginning of each permutation\n",
    "        for permutation in remaining_permutations:\n",
    "            permutations.append(current_char + permutation)\n",
    "\n",
    "    return permutations\n",
    "\n",
    "# Example usage\n",
    "input_string = input(\"Enter a string: \")\n",
    "permutations = generate_permutations(input_string)\n",
    "print(\"Permutations:\")\n",
    "for permutation in permutations:\n",
    "    print(permutation)\n",
    "\n"
   ]
  },
  {
   "cell_type": "markdown",
   "metadata": {
    "id": "67a3QhKTmJF_"
   },
   "source": [
    "## Q14. Implement a function to calculate the Fibonacci sequence up to a given number of terms.\n"
   ]
  },
  {
   "cell_type": "code",
   "execution_count": 5,
   "metadata": {
    "colab": {
     "base_uri": "https://localhost:8080/"
    },
    "id": "1O9kr5yRmB9J",
    "outputId": "3650ef70-c1a5-4e43-8bd0-6a1062347f9e"
   },
   "outputs": [
    {
     "name": "stdout",
     "output_type": "stream",
     "text": [
      "0 1 1 2 3 5 8 None\n"
     ]
    }
   ],
   "source": [
    "def fibon(n):\n",
    "  a,b=0,1\n",
    "  for i in range(2,n+1):\n",
    "    print(a,end=\" \")\n",
    "    a,b=b,a+b\n",
    "\n",
    "print(fibon(8))"
   ]
  },
  {
   "cell_type": "markdown",
   "metadata": {
    "id": "EvP64bT9ohC2"
   },
   "source": [
    "## Q 15. Write a program to find the median of a list of numbers.\n"
   ]
  },
  {
   "cell_type": "code",
   "execution_count": 6,
   "metadata": {
    "colab": {
     "base_uri": "https://localhost:8080/"
    },
    "id": "7Dc8qQkBoFga",
    "outputId": "daae7d94-db45-48d9-ffae-a4ce7ea12f1f"
   },
   "outputs": [
    {
     "name": "stdout",
     "output_type": "stream",
     "text": [
      "The original list :  [3, 2, 4, 9, 12, 35]\n",
      "Median of list is :  6.5\n"
     ]
    }
   ],
   "source": [
    "import numpy as np\n",
    "list=[3,2,4,9,12,35]\n",
    "print(\"The original list : \", list)\n",
    "\n",
    "med=np.median(list)\n",
    "\n",
    "print(\"Median of list is : \", med)\n",
    "\n",
    "\n"
   ]
  },
  {
   "cell_type": "markdown",
   "metadata": {
    "id": "pvPgJlP1p8aJ"
   },
   "source": [
    "##  Q16. Implement a function to check if a given list is sorted in non-decreasing order."
   ]
  },
  {
   "cell_type": "code",
   "execution_count": 16,
   "metadata": {
    "colab": {
     "base_uri": "https://localhost:8080/"
    },
    "id": "3o4Fo_XdpnW8",
    "outputId": "3a10dab9-24d1-48d1-c401-ea7dd3dd1d30"
   },
   "outputs": [
    {
     "name": "stdout",
     "output_type": "stream",
     "text": [
      "The list is sorted in non-decreasing order.\n"
     ]
    }
   ],
   "source": [
    "def is_sorted(lst):\n",
    "    for i in range(len(lst) - 1):\n",
    "        if lst[i] > lst[i + 1]:\n",
    "            return False\n",
    "    return True\n",
    "\n",
    "# Example usage\n",
    "my_list = [1, 2, 3, 4, 5]\n",
    "if is_sorted(my_list):\n",
    "    print(\"The list is sorted in non-decreasing order.\")\n",
    "else:\n",
    "    print(\"The list is not sorted in non-decreasing order.\")\n"
   ]
  },
  {
   "cell_type": "markdown",
   "metadata": {
    "id": "X0uiQma_qm2g"
   },
   "source": [
    "## Q17. Write a Python program to find the intersection of two lists.\n"
   ]
  },
  {
   "cell_type": "code",
   "execution_count": 17,
   "metadata": {
    "colab": {
     "base_uri": "https://localhost:8080/"
    },
    "id": "wA7JzgLHqeyw",
    "outputId": "6897d2e2-154e-46b1-d315-85f71067b220"
   },
   "outputs": [
    {
     "name": "stdout",
     "output_type": "stream",
     "text": [
      "Intersection: [4, 5]\n"
     ]
    }
   ],
   "source": [
    "def find_intersection(list1, list2):\n",
    "    intersection = []\n",
    "    for item in list1:\n",
    "        if item in list2 and item not in intersection:\n",
    "            intersection.append(item)\n",
    "    return intersection\n",
    "\n",
    "# Example usage\n",
    "list1 = [1, 2, 3, 4, 5]\n",
    "list2 = [4, 5, 6, 7, 8]\n",
    "intersection = find_intersection(list1, list2)\n",
    "print(\"Intersection:\", intersection)\n"
   ]
  },
  {
   "cell_type": "markdown",
   "metadata": {
    "id": "w4DSdlEOq5C3"
   },
   "source": [
    "## Q18. Implement a function to find the maximum subarray sum in a given list.\n"
   ]
  },
  {
   "cell_type": "code",
   "execution_count": 18,
   "metadata": {
    "colab": {
     "base_uri": "https://localhost:8080/"
    },
    "id": "W3owW1dkq1DF",
    "outputId": "dc07f439-9e1f-4cbe-9b2e-78ff357f3a9c"
   },
   "outputs": [
    {
     "name": "stdout",
     "output_type": "stream",
     "text": [
      "Maximum subarray sum: 6\n"
     ]
    }
   ],
   "source": [
    "def find_max_subarray_sum(lst):\n",
    "    max_sum = float('-inf')\n",
    "    current_sum = 0\n",
    "\n",
    "    for num in lst:\n",
    "        current_sum = max(num, current_sum + num)\n",
    "        max_sum = max(max_sum, current_sum)\n",
    "\n",
    "    return max_sum\n",
    "\n",
    "# Example usage\n",
    "my_list = [-2, 1, -3, 4, -1, 2, 1, -5, 4]\n",
    "max_subarray_sum = find_max_subarray_sum(my_list)\n",
    "print(\"Maximum subarray sum:\", max_subarray_sum)\n"
   ]
  },
  {
   "cell_type": "markdown",
   "metadata": {
    "id": "IQtbg8XIrEQX"
   },
   "source": [
    "## Q19. Write a program to remove all vowels from a given string.\n"
   ]
  },
  {
   "cell_type": "code",
   "execution_count": 7,
   "metadata": {
    "colab": {
     "base_uri": "https://localhost:8080/"
    },
    "id": "zNDV8FFaq_bc",
    "outputId": "7f1c41ac-ea29-4e33-e403-bd79e8dfa036"
   },
   "outputs": [
    {
     "name": "stdin",
     "output_type": "stream",
     "text": [
      "Enter a string:  kundan\n"
     ]
    },
    {
     "name": "stdout",
     "output_type": "stream",
     "text": [
      "String without vowels: kndn\n"
     ]
    }
   ],
   "source": [
    "def remove_vowels(string):\n",
    "    vowels = ['a', 'e', 'i', 'o', 'u', 'A', 'E', 'I', 'O', 'U']\n",
    "    result = \"\"\n",
    "    for char in string:\n",
    "        if char not in vowels:\n",
    "            result += char\n",
    "    return result\n",
    "\n",
    "# Example usage\n",
    "input_string = input(\"Enter a string: \")\n",
    "string_without_vowels = remove_vowels(input_string)\n",
    "print(\"String without vowels:\", string_without_vowels)\n"
   ]
  },
  {
   "cell_type": "markdown",
   "metadata": {
    "id": "2acTXPxoraLk"
   },
   "source": [
    "## Q20. Implement a function to reverse the order of words in a given sentence.\n"
   ]
  },
  {
   "cell_type": "code",
   "execution_count": 8,
   "metadata": {
    "colab": {
     "base_uri": "https://localhost:8080/"
    },
    "id": "RQSJOR1CrLNF",
    "outputId": "a75d137c-3183-411f-8883-b1bbcffce6d2"
   },
   "outputs": [
    {
     "name": "stdin",
     "output_type": "stream",
     "text": [
      "Enter a sentence:  this is data science course\n"
     ]
    },
    {
     "name": "stdout",
     "output_type": "stream",
     "text": [
      "Reversed sentence: course science data is this\n"
     ]
    }
   ],
   "source": [
    "def reverse_sentence(sentence):\n",
    "    words = sentence.split()\n",
    "    reversed_words = words[::-1]\n",
    "    reversed_sentence = ' '.join(reversed_words)\n",
    "    return reversed_sentence\n",
    "\n",
    "# Example usage\n",
    "input_sentence = input(\"Enter a sentence: \")\n",
    "reversed_sentence = reverse_sentence(input_sentence)\n",
    "print(\"Reversed sentence:\", reversed_sentence)\n"
   ]
  },
  {
   "cell_type": "markdown",
   "metadata": {
    "id": "JdpUqPl53rb6"
   },
   "source": [
    "## Q21. Write a Python program to check if two strings are anagrams of each other.\n"
   ]
  },
  {
   "cell_type": "code",
   "execution_count": 9,
   "metadata": {
    "colab": {
     "base_uri": "https://localhost:8080/"
    },
    "id": "7F2Ofm-Crr_j",
    "outputId": "8a54af7d-a960-4df2-ef45-3f7cf9059b49"
   },
   "outputs": [
    {
     "name": "stdin",
     "output_type": "stream",
     "text": [
      "Enter the first string:  silent\n",
      "Enter the second string:  listen\n"
     ]
    },
    {
     "name": "stdout",
     "output_type": "stream",
     "text": [
      "The strings are anagrams.\n"
     ]
    }
   ],
   "source": [
    "def are_anagrams(string1, string2):\n",
    "    # Remove spaces and convert to lowercase\n",
    "    string1 = string1.replace(\" \", \"\").lower()\n",
    "    string2 = string2.replace(\" \", \"\").lower()\n",
    "\n",
    "    # Check if the lengths are equal\n",
    "    if len(string1) != len(string2):\n",
    "        return False\n",
    "\n",
    "    # Create dictionaries to count character occurrences\n",
    "    count1 = {}\n",
    "    count2 = {}\n",
    "\n",
    "    # Count character occurrences in string1\n",
    "    for char in string1:\n",
    "        if char in count1:\n",
    "            count1[char] += 1\n",
    "        else:\n",
    "            count1[char] = 1\n",
    "\n",
    "    # Count character occurrences in string2\n",
    "    for char in string2:\n",
    "        if char in count2:\n",
    "            count2[char] += 1\n",
    "        else:\n",
    "            count2[char] = 1\n",
    "\n",
    "    # Compare the dictionaries\n",
    "    if count1 == count2:\n",
    "        return True\n",
    "    else:\n",
    "        return False\n",
    "\n",
    "# Example usage\n",
    "input_string1 = input(\"Enter the first string: \")\n",
    "input_string2 = input(\"Enter the second string: \")\n",
    "\n",
    "if are_anagrams(input_string1, input_string2):\n",
    "    print(\"The strings are anagrams.\")\n",
    "else:\n",
    "    print(\"The strings are not anagrams.\")\n"
   ]
  },
  {
   "cell_type": "markdown",
   "metadata": {
    "id": "un0AfcUx4Du9"
   },
   "source": [
    "## Q22. Implement a function to find the first non-repeating character in a string.\n"
   ]
  },
  {
   "cell_type": "code",
   "execution_count": 22,
   "metadata": {
    "colab": {
     "base_uri": "https://localhost:8080/"
    },
    "id": "s4oWk3r74nyG",
    "outputId": "bc5d68a8-1640-4fb2-d949-6be0d01416cd"
   },
   "outputs": [
    {
     "name": "stdout",
     "output_type": "stream",
     "text": [
      "Enter a string: i like python\n",
      "First non-repeating character: l\n"
     ]
    }
   ],
   "source": [
    "def find_first_non_repeating_char(string):\n",
    "    char_count = {}\n",
    "\n",
    "    for char in string:\n",
    "        if char in char_count:\n",
    "            char_count[char] += 1\n",
    "        else:\n",
    "            char_count[char] = 1\n",
    "\n",
    "    for char in string:\n",
    "        if char_count[char] == 1:\n",
    "            return char\n",
    "\n",
    "    return None\n",
    "\n",
    "# Example usage\n",
    "input_string = input(\"Enter a string: \")\n",
    "first_non_repeating_char = find_first_non_repeating_char(input_string)\n",
    "\n",
    "if first_non_repeating_char:\n",
    "    print(\"First non-repeating character:\", first_non_repeating_char)\n",
    "else:\n",
    "    print(\"No non-repeating character found.\")\n"
   ]
  },
  {
   "cell_type": "markdown",
   "metadata": {
    "id": "Sp1otLQB381v"
   },
   "source": [
    "## Q23. Write a program to find the prime factors of a given number.\n"
   ]
  },
  {
   "cell_type": "code",
   "execution_count": 23,
   "metadata": {
    "colab": {
     "base_uri": "https://localhost:8080/"
    },
    "id": "ekjqCcCQ30DK",
    "outputId": "1c538e64-fa4c-4dc9-f894-f7e84a3bc465"
   },
   "outputs": [
    {
     "name": "stdout",
     "output_type": "stream",
     "text": [
      "Enter a number: 34\n",
      "Prime factors: [2, 17]\n"
     ]
    }
   ],
   "source": [
    "def find_prime_factors(num):\n",
    "    prime_factors = []\n",
    "    divisor = 2\n",
    "\n",
    "    while divisor <= num:\n",
    "        if num % divisor == 0:\n",
    "            prime_factors.append(divisor)\n",
    "            num = num / divisor\n",
    "        else:\n",
    "            divisor += 1\n",
    "\n",
    "    return prime_factors\n",
    "\n",
    "# Example usage\n",
    "input_num = int(input(\"Enter a number: \"))\n",
    "prime_factors = find_prime_factors(input_num)\n",
    "print(\"Prime factors:\", prime_factors)\n"
   ]
  },
  {
   "cell_type": "markdown",
   "metadata": {
    "id": "--_oYZsm5BHb"
   },
   "source": [
    "## Q24. Implement a function to check if a given number is a power of two.\n"
   ]
  },
  {
   "cell_type": "code",
   "execution_count": 24,
   "metadata": {
    "colab": {
     "base_uri": "https://localhost:8080/"
    },
    "id": "Xm7zqW_f4d3S",
    "outputId": "4b0bf961-74e8-4d6c-d548-739d6914e247"
   },
   "outputs": [
    {
     "name": "stdout",
     "output_type": "stream",
     "text": [
      "True\n",
      "False\n",
      "False\n",
      "False\n"
     ]
    }
   ],
   "source": [
    "def is_power_of_two(n):\n",
    "    if n <= 0:\n",
    "        return False\n",
    "    return (n & (n - 1)) == 0\n",
    "\n",
    "print(is_power_of_two(16))  # True\n",
    "print(is_power_of_two(12))  # False\n",
    "print(is_power_of_two(0))   # False\n",
    "print(is_power_of_two(-8))  # False\n",
    "\n"
   ]
  },
  {
   "cell_type": "markdown",
   "metadata": {
    "id": "HXhdTPnR5Zeu"
   },
   "source": [
    "## Q25. Write a Python program to merge two sorted lists into a single sorted list.\n"
   ]
  },
  {
   "cell_type": "code",
   "execution_count": 25,
   "metadata": {
    "colab": {
     "base_uri": "https://localhost:8080/"
    },
    "id": "SjqJBTkD5KSb",
    "outputId": "a4f4b3d4-224e-4bb3-9c22-05f8db437460"
   },
   "outputs": [
    {
     "name": "stdout",
     "output_type": "stream",
     "text": [
      "The original list 1 is :  [2, 4, 6, 3, 7]\n",
      "The original list 2 is :  [4, 3, 5, 3, 6]\n",
      "The combined sorted list is :  [2, 3, 3, 3, 4, 4, 5, 6, 6, 7]\n"
     ]
    }
   ],
   "source": [
    "list1=[2,4,6,3,7]\n",
    "list2=[4,3,5,3,6]\n",
    "\n",
    "print (\"The original list 1 is : \" ,list1)\n",
    "print (\"The original list 2 is : \" ,list2)\n",
    "\n",
    "res = sorted(list1 + list2)\n",
    "\n",
    "print (\"The combined sorted list is : \" ,res)\n"
   ]
  },
  {
   "cell_type": "markdown",
   "metadata": {
    "id": "2mfTolX56doM"
   },
   "source": [
    "## Q26. Implement a function to find the mode of a list of numbers.\n"
   ]
  },
  {
   "cell_type": "code",
   "execution_count": 26,
   "metadata": {
    "colab": {
     "base_uri": "https://localhost:8080/"
    },
    "id": "ynF081qQ6KKE",
    "outputId": "0a633f41-9226-426b-8dbb-3ee3be4a1e97"
   },
   "outputs": [
    {
     "name": "stdout",
     "output_type": "stream",
     "text": [
      "[2]\n"
     ]
    }
   ],
   "source": [
    "from collections import Counter\n",
    "\n",
    "def find_mode(numbers):\n",
    "    count = Counter(numbers)\n",
    "    max_count = max(count.values())\n",
    "    modes = [num for num, freq in count.items() if freq == max_count]\n",
    "    return modes\n",
    "\n",
    "numbers = [1, 2, 3, 4, 2, 3, 2, 2]\n",
    "print(find_mode(numbers))\n"
   ]
  },
  {
   "cell_type": "markdown",
   "metadata": {
    "id": "RzBD32s06_Kk"
   },
   "source": [
    "## Q27. Write a program to find the greatest common divisor (GCD) of two numbers.\n"
   ]
  },
  {
   "cell_type": "code",
   "execution_count": 27,
   "metadata": {
    "colab": {
     "base_uri": "https://localhost:8080/"
    },
    "id": "gdEPtKPy6y8C",
    "outputId": "7c3b09fe-4f94-4b6b-b7c6-ca79c4ecfc4e"
   },
   "outputs": [
    {
     "name": "stdout",
     "output_type": "stream",
     "text": [
      "The GCD of 60 and 48 is: 12\n"
     ]
    }
   ],
   "source": [
    "##import math\n",
    "\n",
    "### prints 12\n",
    "##print(\"The gcd of 60 and 48 is : \", end=\"\")\n",
    "##print(math.gcd(60, 48))\n",
    "\n",
    "\n",
    "\n",
    "def gcd(a, b):\n",
    "    while b != 0:\n",
    "        a, b = b, a % b\n",
    "    return a\n",
    "\n",
    "num1 = 60\n",
    "num2 = 48\n",
    "print(\"The GCD of\", num1, \"and\", num2, \"is:\", gcd(num1, num2))\n"
   ]
  },
  {
   "cell_type": "markdown",
   "metadata": {
    "id": "0rMc76us8TDJ"
   },
   "source": [
    "## Q28. Implement a function to calculate the square root of a given number.\n"
   ]
  },
  {
   "cell_type": "code",
   "execution_count": 28,
   "metadata": {
    "colab": {
     "base_uri": "https://localhost:8080/"
    },
    "id": "OCv93YZN7O5D",
    "outputId": "46ce14eb-660a-464a-aae0-d1845ed5ea32"
   },
   "outputs": [
    {
     "name": "stdout",
     "output_type": "stream",
     "text": [
      "The square root of 25 is: 5\n"
     ]
    }
   ],
   "source": [
    "def square_root(n):\n",
    "    if n < 0:\n",
    "        raise ValueError(\"Cannot calculate square root of a negative number.\")\n",
    "    elif n == 0:\n",
    "        return 0\n",
    "\n",
    "    x = n\n",
    "    y = (x + 1) // 2\n",
    "    while y < x:\n",
    "        x = y\n",
    "        y = (x + n // x) // 2\n",
    "    return x\n",
    "\n",
    "num = 25\n",
    "print(\"The square root of\", num, \"is:\", square_root(num))\n",
    "\n"
   ]
  },
  {
   "cell_type": "markdown",
   "metadata": {
    "id": "XnARJeCy9Kj1"
   },
   "source": [
    "## Q29. Write a Python program to check if a given string is a valid palindrome ignoring non-alphanumeric characters.\n"
   ]
  },
  {
   "cell_type": "code",
   "execution_count": 29,
   "metadata": {
    "colab": {
     "base_uri": "https://localhost:8080/"
    },
    "id": "5Au8fE7N9Ddx",
    "outputId": "76ced1fb-a827-4ed6-b4b7-7f8ebe353f5a"
   },
   "outputs": [
    {
     "name": "stdout",
     "output_type": "stream",
     "text": [
      "Yes\n"
     ]
    }
   ],
   "source": [
    "def isPalindrome(string):\n",
    "    return string == string[::-1]\n",
    "\n",
    "\n",
    "# Driver code\n",
    "string1 = \"malayalam\"\n",
    "ans = isPalindrome(string1)\n",
    "\n",
    "\n",
    "\n",
    "if ans:\n",
    "    print(\"Yes\")\n",
    "else:\n",
    "    print(\"No\")"
   ]
  },
  {
   "cell_type": "markdown",
   "metadata": {
    "id": "lZd9I2d2-gGb"
   },
   "source": [
    "## Q30. Implement a function to find the minimum element in a rotated sorted list.\n"
   ]
  },
  {
   "cell_type": "code",
   "execution_count": 30,
   "metadata": {
    "colab": {
     "base_uri": "https://localhost:8080/"
    },
    "id": "EhxZbj4g-zFh",
    "outputId": "db3b3188-7e15-4fee-f9ff-d7ebf62b1458"
   },
   "outputs": [
    {
     "name": "stdout",
     "output_type": "stream",
     "text": [
      "The minimum element is: 1\n"
     ]
    }
   ],
   "source": [
    "def find_min(nums):\n",
    "    left = 0\n",
    "    right = len(nums) - 1\n",
    "\n",
    "    while left < right:\n",
    "        mid = left + (right - left) // 2\n",
    "\n",
    "        if nums[mid] > nums[right]:\n",
    "            left = mid + 1\n",
    "        else:\n",
    "            right = mid\n",
    "\n",
    "    return nums[left]\n",
    "\n",
    "nums = [4, 5, 6, 7, 1, 2]\n",
    "print(\"The minimum element is:\", find_min(nums))\n"
   ]
  },
  {
   "cell_type": "markdown",
   "metadata": {
    "id": "bv1V4WqY-7eh"
   },
   "source": [
    "## Q31. Write a program to find the sum of all even numbers in a list.\n"
   ]
  },
  {
   "cell_type": "code",
   "execution_count": 31,
   "metadata": {
    "colab": {
     "base_uri": "https://localhost:8080/"
    },
    "id": "WxmWe2MV-1yr",
    "outputId": "5db4b55f-d778-439c-e228-671d2d249056"
   },
   "outputs": [
    {
     "name": "stdout",
     "output_type": "stream",
     "text": [
      "The sum of even numbers is: 30\n"
     ]
    }
   ],
   "source": [
    "def sum_of_even_numbers(numbers):\n",
    "    sum_even = 0\n",
    "    for num in numbers:\n",
    "        if num % 2 == 0:\n",
    "            sum_even += num\n",
    "    return sum_even\n",
    "\n",
    "numbers = [1, 2, 3, 4, 5, 6, 7, 8, 9, 10]\n",
    "print(\"The sum of even numbers is:\", sum_of_even_numbers(numbers))\n"
   ]
  },
  {
   "cell_type": "markdown",
   "metadata": {
    "id": "7XyfvZ97_R4Y"
   },
   "source": [
    "## Q32. Implement a function to calculate the power of a number using recursion.\n"
   ]
  },
  {
   "cell_type": "code",
   "execution_count": 32,
   "metadata": {
    "colab": {
     "base_uri": "https://localhost:8080/"
    },
    "id": "wqLAdL4d_LmC",
    "outputId": "7bb096a1-1f86-457d-f820-73c2af197788"
   },
   "outputs": [
    {
     "name": "stdout",
     "output_type": "stream",
     "text": [
      "Result: 32\n"
     ]
    }
   ],
   "source": [
    "def power(base, exponent):\n",
    "    if exponent == 0:\n",
    "        return 1\n",
    "    elif exponent < 0:\n",
    "        return 1 / power(base, -exponent)\n",
    "    else:\n",
    "        return base * power(base, exponent - 1)\n",
    "\n",
    "base = 2\n",
    "exponent = 5\n",
    "print(\"Result:\", power(base, exponent))\n",
    "\n"
   ]
  },
  {
   "cell_type": "markdown",
   "metadata": {
    "id": "w52Seooj_wbi"
   },
   "source": [
    "## Q33. Write a Python program to remove duplicates from a list while preserving the order.\n"
   ]
  },
  {
   "cell_type": "code",
   "execution_count": 33,
   "metadata": {
    "colab": {
     "base_uri": "https://localhost:8080/"
    },
    "id": "FG_4i3jT_mI7",
    "outputId": "cf430f1c-22df-4c51-b5f4-8b2661d70fe1"
   },
   "outputs": [
    {
     "name": "stdout",
     "output_type": "stream",
     "text": [
      "[0, 1, 2, 3, 4, 5, 6, 7, 8, 9, 98]\n"
     ]
    }
   ],
   "source": [
    "list=[1,3,2,1,4,6,5,2,6,4,3,8,6,8,9,7,0,98,7,6,4,3]\n",
    "list.sort()\n",
    "res=[]\n",
    "for i in list:\n",
    "  if i not in res:\n",
    "    res.append(i)\n",
    "print(res)\n"
   ]
  },
  {
   "cell_type": "markdown",
   "metadata": {
    "id": "EvgrTFHEBT-i"
   },
   "source": [
    "## Q34. Implement a function to find the longest common prefix among a list of strings.\n"
   ]
  },
  {
   "cell_type": "code",
   "execution_count": 34,
   "metadata": {
    "colab": {
     "base_uri": "https://localhost:8080/"
    },
    "id": "FTfuMofHAncL",
    "outputId": "b056fdf6-629f-465f-bfdb-a4d4bd202bc6"
   },
   "outputs": [
    {
     "name": "stdout",
     "output_type": "stream",
     "text": [
      "Longest common prefix: fl\n",
      "Longest common prefix: \n"
     ]
    }
   ],
   "source": [
    "def longest_common_prefix(strs):\n",
    "    if not strs:\n",
    "        return \"\"\n",
    "\n",
    "    prefix = strs[0]\n",
    "    for i in range(1, len(strs)):\n",
    "        while strs[i].find(prefix) != 0:\n",
    "            prefix = prefix[:-1]\n",
    "            if not prefix:\n",
    "                return \"\"\n",
    "\n",
    "    return prefix\n",
    "\n",
    "strings1 = [\"flower\", \"flow\", \"flight\"]\n",
    "strings2 = [\"dog\", \"racecar\", \"car\"]\n",
    "print(\"Longest common prefix:\", longest_common_prefix(strings1))\n",
    "print(\"Longest common prefix:\", longest_common_prefix(strings2))\n"
   ]
  },
  {
   "cell_type": "markdown",
   "metadata": {
    "id": "sImC5WTpBsOz"
   },
   "source": [
    "## Q35. Write a program to check if a given number is a perfect square.\n"
   ]
  },
  {
   "cell_type": "code",
   "execution_count": 35,
   "metadata": {
    "colab": {
     "base_uri": "https://localhost:8080/"
    },
    "id": "V0SMJYX7BeRf",
    "outputId": "9fa968e6-74aa-4caf-9af7-c8366219b255"
   },
   "outputs": [
    {
     "name": "stdout",
     "output_type": "stream",
     "text": [
      "True\n",
      "False\n",
      "True\n",
      "True\n",
      "False\n"
     ]
    }
   ],
   "source": [
    "import math\n",
    "\n",
    "def is_perfect_square(num):\n",
    "    if num < 0:\n",
    "        return False\n",
    "\n",
    "    sqrt = int(math.sqrt(num))\n",
    "    return sqrt * sqrt == num\n",
    "\n",
    "\n",
    "print(is_perfect_square(16))    # True\n",
    "print(is_perfect_square(14))    # False\n",
    "print(is_perfect_square(0))     # True\n",
    "print(is_perfect_square(25))    # True\n",
    "print(is_perfect_square(-1))    # False\n",
    "\n"
   ]
  },
  {
   "cell_type": "markdown",
   "metadata": {
    "id": "sd5QH3q6Csj0"
   },
   "source": [
    "## Q36. Implement a function to calculate the product of all elements in a list.\n"
   ]
  },
  {
   "cell_type": "code",
   "execution_count": 36,
   "metadata": {
    "colab": {
     "base_uri": "https://localhost:8080/"
    },
    "id": "fHnd5B1vCNdn",
    "outputId": "6782156a-b1ac-4a57-f690-a309f12cf7ad"
   },
   "outputs": [
    {
     "name": "stdout",
     "output_type": "stream",
     "text": [
      "The product of all elements is: 120\n"
     ]
    }
   ],
   "source": [
    "def calculate_product(numbers):\n",
    "    product = 1\n",
    "    for num in numbers:\n",
    "        product *= num\n",
    "    return product\n",
    "\n",
    "numbers = [1, 2, 3, 4, 5]\n",
    "print(\"The product of all elements is:\", calculate_product(numbers))\n"
   ]
  },
  {
   "cell_type": "markdown",
   "metadata": {
    "id": "I5Zc-0cUDDof"
   },
   "source": [
    "## Q37. Write a Python program to reverse the order of words in a sentence while preserving the word order.\n"
   ]
  },
  {
   "cell_type": "code",
   "execution_count": 37,
   "metadata": {
    "colab": {
     "base_uri": "https://localhost:8080/"
    },
    "id": "hFLFnGAFC7QD",
    "outputId": "2b3fc0bb-7eba-4edd-cb1a-389df982d5e2"
   },
   "outputs": [
    {
     "name": "stdout",
     "output_type": "stream",
     "text": [
      "Reversed sentence: you? are how Hello,\n"
     ]
    }
   ],
   "source": [
    "def reverse_sentence(sentence):\n",
    "    words = sentence.split()\n",
    "    reversed_words = words[::-1]\n",
    "    reversed_sentence = ' '.join(reversed_words)\n",
    "    return reversed_sentence\n",
    "\n",
    "sentence = \"Hello, how are you?\"\n",
    "print(\"Reversed sentence:\", reverse_sentence(sentence))\n"
   ]
  },
  {
   "cell_type": "markdown",
   "metadata": {
    "id": "aJOfGOgODcYs"
   },
   "source": [
    "## Q38. Implement a function to find the missing number in a given list of consecutive numbers.\n"
   ]
  },
  {
   "cell_type": "code",
   "execution_count": 38,
   "metadata": {
    "colab": {
     "base_uri": "https://localhost:8080/"
    },
    "id": "0-_8taPGDQ86",
    "outputId": "e1b43d82-b8e0-474c-fff7-945065db3622"
   },
   "outputs": [
    {
     "name": "stdout",
     "output_type": "stream",
     "text": [
      "The missing number is: 4\n"
     ]
    }
   ],
   "source": [
    "def find_missing_number(numbers):\n",
    "    n = len(numbers) + 1\n",
    "    expected_sum = (n * (n + 1)) // 2\n",
    "    actual_sum = sum(numbers)\n",
    "    missing_number = expected_sum - actual_sum\n",
    "    return missing_number\n",
    "\n",
    "numbers = [1, 2, 3, 5, 6, 7, 8, 9, 10]\n",
    "print(\"The missing number is:\", find_missing_number(numbers))\n"
   ]
  },
  {
   "cell_type": "markdown",
   "metadata": {
    "id": "Jj1lTTp0DvDc"
   },
   "source": [
    "## Q39. Write a program to find the sum of digits of a given number.\n"
   ]
  },
  {
   "cell_type": "code",
   "execution_count": 39,
   "metadata": {
    "colab": {
     "base_uri": "https://localhost:8080/"
    },
    "id": "ZWJnGqMkDqCo",
    "outputId": "be6d632e-6afe-49ac-ed8d-889891f8def6"
   },
   "outputs": [
    {
     "name": "stdout",
     "output_type": "stream",
     "text": [
      "Sum of digits: 15\n"
     ]
    }
   ],
   "source": [
    "def sum_of_digits(number):\n",
    "    sum_digits = 0\n",
    "    while number > 0:\n",
    "        digit = number % 10\n",
    "        sum_digits += digit\n",
    "        number //= 10\n",
    "    return sum_digits\n",
    "\n",
    "number = 12345\n",
    "print(\"Sum of digits:\", sum_of_digits(number))\n"
   ]
  },
  {
   "cell_type": "markdown",
   "metadata": {
    "id": "rrDVDggGELNB"
   },
   "source": [
    "## Q40. Implement a function to check if a given string is a valid palindrome considering case sensitivity.\n"
   ]
  },
  {
   "cell_type": "code",
   "execution_count": 40,
   "metadata": {
    "colab": {
     "base_uri": "https://localhost:8080/"
    },
    "id": "Uquys-UDEHT3",
    "outputId": "823cfd8e-9b7c-4876-d121-acfb2480da24"
   },
   "outputs": [
    {
     "name": "stdout",
     "output_type": "stream",
     "text": [
      "False\n",
      "True\n",
      "False\n"
     ]
    }
   ],
   "source": [
    "def is_valid_palindrome(string):\n",
    "    clean_string = ''.join(e for e in string if e.isalnum())\n",
    "    return clean_string == clean_string[::-1]\n",
    "\n",
    "string1 = \"A man, a plan, a canal: Panama\"\n",
    "string2 = \"racecar\"\n",
    "string3 = \"OpenAI\"\n",
    "print(is_valid_palindrome(string1))  # False\n",
    "print(is_valid_palindrome(string2))  # True\n",
    "print(is_valid_palindrome(string3))  # False\n",
    "\n"
   ]
  },
  {
   "cell_type": "markdown",
   "metadata": {
    "id": "MVZfcNVbEp9-"
   },
   "source": [
    "## Q41. Write a Python program to find the smallest missing positive integer in a list.\n"
   ]
  },
  {
   "cell_type": "code",
   "execution_count": 41,
   "metadata": {
    "colab": {
     "base_uri": "https://localhost:8080/"
    },
    "id": "oIcWtf86EgBZ",
    "outputId": "9c44fe9a-6027-43ea-dce9-a08b5f6eb5f5"
   },
   "outputs": [
    {
     "name": "stdout",
     "output_type": "stream",
     "text": [
      "The smallest missing positive integer is: 2\n"
     ]
    }
   ],
   "source": [
    "def find_smallest_missing_positive(numbers):\n",
    "    # Move all non-positive numbers to the left\n",
    "    n = len(numbers)\n",
    "    i = 0\n",
    "    while i < n:\n",
    "        if numbers[i] <= 0 or numbers[i] > n:\n",
    "            i += 1\n",
    "        elif numbers[numbers[i] - 1] != numbers[i]:\n",
    "            numbers[numbers[i] - 1], numbers[i] = numbers[i], numbers[numbers[i] - 1]\n",
    "        else:\n",
    "            i += 1\n",
    "\n",
    "    # Find the first missing positive integer\n",
    "    for i in range(n):\n",
    "        if numbers[i] != i + 1:\n",
    "            return i + 1\n",
    "\n",
    "    return n + 1\n",
    "\n",
    "numbers = [3, 4, -1, 1]\n",
    "print(\"The smallest missing positive integer is:\", find_smallest_missing_positive(numbers))\n"
   ]
  },
  {
   "cell_type": "markdown",
   "metadata": {
    "id": "IeNHUxYSFHve"
   },
   "source": [
    "## Q42. Implement a function to find the longest palindrome substring in a given string.\n"
   ]
  },
  {
   "cell_type": "code",
   "execution_count": 42,
   "metadata": {
    "colab": {
     "base_uri": "https://localhost:8080/"
    },
    "id": "8iuhskvfFDA3",
    "outputId": "791a423f-b34b-4c9c-e8f1-7e8ddfaf35e8"
   },
   "outputs": [
    {
     "name": "stdout",
     "output_type": "stream",
     "text": [
      "Longest palindrome substring: aba\n"
     ]
    }
   ],
   "source": [
    "def longest_palindrome(s):\n",
    "    if len(s) <= 1:\n",
    "        return s\n",
    "\n",
    "    start = 0\n",
    "    end = 0\n",
    "\n",
    "    for i in range(len(s)):\n",
    "        len1 = expand_around_center(s, i, i)\n",
    "        len2 = expand_around_center(s, i, i + 1)\n",
    "        length = max(len1, len2)\n",
    "\n",
    "        if length > end - start:\n",
    "            start = i - (length - 1) // 2\n",
    "            end = i + length // 2\n",
    "\n",
    "    return s[start : end + 1]\n",
    "\n",
    "def expand_around_center(s, left, right):\n",
    "    while left >= 0 and right < len(s) and s[left] == s[right]:\n",
    "        left -= 1\n",
    "        right += 1\n",
    "\n",
    "    return right - left - 1\n",
    "\n",
    "\n",
    "string = \"babad\"\n",
    "print(\"Longest palindrome substring:\", longest_palindrome(string))\n",
    "\n"
   ]
  },
  {
   "cell_type": "markdown",
   "metadata": {
    "id": "RNOmoaZMFoDn"
   },
   "source": [
    "## Q43. Write a program to find the number of occurrences of a given element in a list.\n"
   ]
  },
  {
   "cell_type": "code",
   "execution_count": 43,
   "metadata": {
    "colab": {
     "base_uri": "https://localhost:8080/"
    },
    "id": "2AcSN91cFUfI",
    "outputId": "74eadc3d-b64e-4781-e11b-522c050fa9ff"
   },
   "outputs": [
    {
     "name": "stdout",
     "output_type": "stream",
     "text": [
      "Number of occurrences: 4\n"
     ]
    }
   ],
   "source": [
    "def count_occurrences(lst, element):\n",
    "    count = 0\n",
    "    for item in lst:\n",
    "        if item == element:\n",
    "            count += 1\n",
    "    return count\n",
    "\n",
    "\n",
    "numbers = [1, 2, 3, 2, 4, 5, 3, 2, 6, 7, 2]\n",
    "element = 2\n",
    "print(\"Number of occurrences:\", count_occurrences(numbers, element))\n",
    "\n",
    "\n"
   ]
  },
  {
   "cell_type": "markdown",
   "metadata": {
    "id": "q5cBE1NzFnDW"
   },
   "source": [
    "## Q44. Implement a function to check if a given number is a perfect number.\n"
   ]
  },
  {
   "cell_type": "code",
   "execution_count": 44,
   "metadata": {
    "colab": {
     "base_uri": "https://localhost:8080/"
    },
    "id": "CnJGIRYPF6_S",
    "outputId": "f4f15985-de47-492c-853a-f443ffddc7d8"
   },
   "outputs": [
    {
     "name": "stdout",
     "output_type": "stream",
     "text": [
      "True\n",
      "True\n",
      "False\n"
     ]
    }
   ],
   "source": [
    "def is_perfect_number(number):\n",
    "    if number <= 0:\n",
    "        return False\n",
    "\n",
    "    divisors = []\n",
    "    for i in range(1, number):\n",
    "        if number % i == 0:\n",
    "            divisors.append(i)\n",
    "\n",
    "    sum_of_divisors = sum(divisors)\n",
    "    return sum_of_divisors == number\n",
    "\n",
    "number1 = 6\n",
    "number2 = 28\n",
    "number3 = 12\n",
    "print(is_perfect_number(number1))  # True\n",
    "print(is_perfect_number(number2))  # True\n",
    "print(is_perfect_number(number3))  # False\n"
   ]
  },
  {
   "cell_type": "markdown",
   "metadata": {
    "id": "mma5WjuuR3S8"
   },
   "source": [
    "## Q45. Write a Python program to remove all duplicates from a string.\n"
   ]
  },
  {
   "cell_type": "code",
   "execution_count": 45,
   "metadata": {
    "colab": {
     "base_uri": "https://localhost:8080/"
    },
    "id": "F-7wRATMGl4L",
    "outputId": "b13ac7b7-702d-4a6e-8244-6f2e0f26743d"
   },
   "outputs": [
    {
     "name": "stdout",
     "output_type": "stream",
     "text": [
      "String after removing duplicates: Helo, Wrd!\n"
     ]
    }
   ],
   "source": [
    "def remove_duplicates(string):\n",
    "    unique_chars = []\n",
    "    for char in string:\n",
    "        if char not in unique_chars:\n",
    "            unique_chars.append(char)\n",
    "    return ''.join(unique_chars)\n",
    "\n",
    "\n",
    "string = \"Hello, World!\"\n",
    "print(\"String after removing duplicates:\", remove_duplicates(string))\n",
    "\n"
   ]
  },
  {
   "cell_type": "markdown",
   "metadata": {
    "id": "YKbF9eHUSVXm"
   },
   "source": [
    "## Q46. Implement a function to find the first missing positive\n"
   ]
  },
  {
   "cell_type": "code",
   "execution_count": 46,
   "metadata": {
    "colab": {
     "base_uri": "https://localhost:8080/"
    },
    "id": "uve6glG9SFKz",
    "outputId": "c90f2ebf-5f64-4aa3-f9b5-4d024580f51e"
   },
   "outputs": [
    {
     "name": "stdout",
     "output_type": "stream",
     "text": [
      "String after removing duplicates: Helo, Wrd!\n"
     ]
    }
   ],
   "source": [
    "def remove_duplicates(string):\n",
    "    unique_chars = []\n",
    "    for char in string:\n",
    "        if char not in unique_chars:\n",
    "            unique_chars.append(char)\n",
    "    return ''.join(unique_chars)\n",
    "\n",
    "\n",
    "string = \"Hello, World!\"\n",
    "print(\"String after removing duplicates:\", remove_duplicates(string))\n"
   ]
  }
 ],
 "metadata": {
  "colab": {
   "provenance": []
  },
  "kernelspec": {
   "display_name": "Python 3 (ipykernel)",
   "language": "python",
   "name": "python3"
  },
  "language_info": {
   "codemirror_mode": {
    "name": "ipython",
    "version": 3
   },
   "file_extension": ".py",
   "mimetype": "text/x-python",
   "name": "python",
   "nbconvert_exporter": "python",
   "pygments_lexer": "ipython3",
   "version": "3.10.8"
  }
 },
 "nbformat": 4,
 "nbformat_minor": 4
}
