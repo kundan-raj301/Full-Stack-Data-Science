{
 "cells": [
  {
   "cell_type": "markdown",
   "id": "61a26bc2-5756-4938-b852-ecf1a8d3af55",
   "metadata": {},
   "source": [
    " #                                                          # Assignment 4 - 3rd Feb "
   ]
  },
  {
   "cell_type": "markdown",
   "id": "b0a9431a-b8e0-41d5-8ffa-9ac9bfeb9c09",
   "metadata": {},
   "source": [
    "### Kundan Kumar"
   ]
  },
  {
   "cell_type": "markdown",
   "id": "a567322b-61fb-4987-ba2f-b540afddb6c1",
   "metadata": {},
   "source": [
    "##### Q1. Which keyword is used to create a function? Create a function to return the list of odd numbers in the range of 1 to 25."
   ]
  },
  {
   "cell_type": "markdown",
   "id": "63df4c2a-7cd0-4997-8eb7-8ac6b8f5fe60",
   "metadata": {},
   "source": [
    "def keyword is used to create a function."
   ]
  },
  {
   "cell_type": "code",
   "execution_count": 1,
   "id": "ef2c5a28-49f3-4151-932a-984a805a40b1",
   "metadata": {},
   "outputs": [],
   "source": [
    "def odd():\n",
    "    for i in range(1,26):\n",
    "        if (i%2==1):\n",
    "            print(i)"
   ]
  },
  {
   "cell_type": "code",
   "execution_count": 2,
   "id": "81ee0d69-c9a0-43ed-9f11-f37312846426",
   "metadata": {},
   "outputs": [
    {
     "name": "stdout",
     "output_type": "stream",
     "text": [
      "1\n",
      "3\n",
      "5\n",
      "7\n",
      "9\n",
      "11\n",
      "13\n",
      "15\n",
      "17\n",
      "19\n",
      "21\n",
      "23\n",
      "25\n"
     ]
    }
   ],
   "source": [
    "odd()"
   ]
  },
  {
   "cell_type": "markdown",
   "id": "abebb0c0-9114-444d-a847-886594e5ba5a",
   "metadata": {},
   "source": [
    "##### Q2. Why *args and  **kwargs are used in some functions? Create a function each for *args and **kwargs to demonstrate its use."
   ]
  },
  {
   "cell_type": "markdown",
   "id": "ba732741-e0c7-495a-85f9-8674d10f90cd",
   "metadata": {},
   "source": [
    "*args is used to input any number of arguments into a function.  \n",
    "While **kwargs is used to input the arguments in the form of key-value pair in the function."
   ]
  },
  {
   "cell_type": "code",
   "execution_count": 4,
   "id": "db712a5d-3dd6-44f3-af36-b1920b9e1d70",
   "metadata": {},
   "outputs": [],
   "source": [
    "def add(*num):\n",
    "    total=0\n",
    "    for i in num:\n",
    "        total = total + i\n",
    "    return total "
   ]
  },
  {
   "cell_type": "code",
   "execution_count": 5,
   "id": "53bbc684-6bb8-4d55-968c-ca61759f260e",
   "metadata": {},
   "outputs": [
    {
     "name": "stdout",
     "output_type": "stream",
     "text": [
      "5\n"
     ]
    }
   ],
   "source": [
    "print(add(2,3))"
   ]
  },
  {
   "cell_type": "code",
   "execution_count": 6,
   "id": "e35d4db5-3386-4419-aea6-2ada7ca1134c",
   "metadata": {},
   "outputs": [
    {
     "name": "stdout",
     "output_type": "stream",
     "text": [
      "22\n"
     ]
    }
   ],
   "source": [
    "print(add(2,5,7,8))"
   ]
  },
  {
   "cell_type": "code",
   "execution_count": 7,
   "id": "28a5efbd-7ffe-4bba-8bc3-da65bcc98b28",
   "metadata": {},
   "outputs": [
    {
     "name": "stdout",
     "output_type": "stream",
     "text": [
      "361\n"
     ]
    }
   ],
   "source": [
    "print(add(92,57,10,45,29,16,22,90))"
   ]
  },
  {
   "cell_type": "code",
   "execution_count": 14,
   "id": "e8d495b5-4dc5-46a6-b868-c9c55163ac0a",
   "metadata": {},
   "outputs": [],
   "source": [
    "# addition using the kwargs\n",
    "def addition(**num):\n",
    "    sum=0\n",
    "    for i in num.values():\n",
    "        sum = sum+ i \n",
    "    return sum"
   ]
  },
  {
   "cell_type": "code",
   "execution_count": 16,
   "id": "ba25bddb-bef2-4e11-b3cd-65029cb6d311",
   "metadata": {},
   "outputs": [
    {
     "name": "stdout",
     "output_type": "stream",
     "text": [
      "5\n"
     ]
    }
   ],
   "source": [
    "print(addition(a=2, b=3))"
   ]
  },
  {
   "cell_type": "code",
   "execution_count": 17,
   "id": "5501c67b-6d00-4134-88cd-6481f60b8fbb",
   "metadata": {},
   "outputs": [
    {
     "name": "stdout",
     "output_type": "stream",
     "text": [
      "364\n"
     ]
    }
   ],
   "source": [
    "print(addition(a=67,b=98,c=199))"
   ]
  },
  {
   "cell_type": "markdown",
   "id": "9a0076f4-0d44-4113-8259-cad36ac764c8",
   "metadata": {},
   "source": [
    "##### Q3. What is an iterator in python? Name the method used to initialize the iterator object and the method used for iteration. USe these methods to print the first five elements of the given list.[2,4,6,8,10,12,14,16,18,20]"
   ]
  },
  {
   "cell_type": "markdown",
   "id": "4f91db1c-1a9a-4c46-85ce-bbc236f3a760",
   "metadata": {},
   "source": [
    "An iterator is an object that contains specific number of values which can be iterated upon."
   ]
  },
  {
   "cell_type": "code",
   "execution_count": 34,
   "id": "6b20cece-c805-4875-a1ab-b4ea95e96af5",
   "metadata": {},
   "outputs": [],
   "source": [
    "l=[2,4,6,8,10,12,14,16,18,20]\n",
    "l4=iter(l)"
   ]
  },
  {
   "cell_type": "code",
   "execution_count": 35,
   "id": "8107eacc-a108-47f8-a362-617c5e836fb7",
   "metadata": {},
   "outputs": [
    {
     "data": {
      "text/plain": [
       "list_iterator"
      ]
     },
     "execution_count": 35,
     "metadata": {},
     "output_type": "execute_result"
    }
   ],
   "source": [
    "type(l4)"
   ]
  },
  {
   "cell_type": "code",
   "execution_count": 36,
   "id": "eb48e036-a574-48d1-bdcd-094f479f5dd5",
   "metadata": {},
   "outputs": [
    {
     "name": "stdout",
     "output_type": "stream",
     "text": [
      "2\n",
      "4\n",
      "6\n",
      "8\n",
      "10\n",
      "12\n",
      "14\n",
      "16\n",
      "18\n",
      "20\n"
     ]
    }
   ],
   "source": [
    "for i in range(0,20,2):\n",
    "    print(next(l4))"
   ]
  },
  {
   "cell_type": "markdown",
   "id": "a257288c-2d0a-4852-8117-6ff68aba03b5",
   "metadata": {},
   "source": [
    "##### Q4. What is a generator function in python? Why yield keyword is used? Give an example of generator function."
   ]
  },
  {
   "cell_type": "markdown",
   "id": "74d55f75-b03d-4520-a2f6-07db90943728",
   "metadata": {},
   "source": [
    "Generator functions helps you to declare a function that acts like an iterator.  \n",
    "Yield keyword is used to return the valuein generator function."
   ]
  },
  {
   "cell_type": "code",
   "execution_count": 10,
   "id": "aa362ac1-c2c3-4656-9a6e-573e43c9f6a5",
   "metadata": {},
   "outputs": [],
   "source": [
    "# generator function for table of 3\n",
    "def table_generator():\n",
    "    n=3\n",
    "    for i in range(10):\n",
    "        n=3*(i+1)\n",
    "        yield n\n",
    "        "
   ]
  },
  {
   "cell_type": "code",
   "execution_count": 4,
   "id": "18b163ab-57c5-46ad-8c4f-a2e1cec4a765",
   "metadata": {},
   "outputs": [
    {
     "data": {
      "text/plain": [
       "<generator object table_generator at 0x7f72ade6dd90>"
      ]
     },
     "execution_count": 4,
     "metadata": {},
     "output_type": "execute_result"
    }
   ],
   "source": [
    "table_generator()"
   ]
  },
  {
   "cell_type": "code",
   "execution_count": 11,
   "id": "7edd5cd5-76d0-4471-9873-3c7ebe30e1e8",
   "metadata": {},
   "outputs": [
    {
     "data": {
      "text/plain": [
       "[3, 6, 9, 12, 15, 18, 21, 24, 27, 30]"
      ]
     },
     "execution_count": 11,
     "metadata": {},
     "output_type": "execute_result"
    }
   ],
   "source": [
    "list(table_generator())"
   ]
  },
  {
   "cell_type": "markdown",
   "id": "02e12921-480c-41b0-a3b7-65c0f909ad2e",
   "metadata": {},
   "source": [
    "##### Q5. Create a generator function for prime numbers less than 1000. USe the next() method to print the first 20 numbers."
   ]
  },
  {
   "cell_type": "code",
   "execution_count": 3,
   "id": "c9135eea-e615-4c1d-be93-293b1508ee87",
   "metadata": {},
   "outputs": [],
   "source": [
    "def prime_generator(n):\n",
    "    for i in range(n):\n",
    "        k=0\n",
    "        for j in range(2,i):\n",
    "            if (i%j==0):\n",
    "                break\n",
    "            k=k+1\n",
    "            if (k==i-2):\n",
    "                yield i"
   ]
  },
  {
   "cell_type": "code",
   "execution_count": 4,
   "id": "92f885d6-4f2e-42c6-bb23-7e6cc3d6a26c",
   "metadata": {},
   "outputs": [
    {
     "name": "stdout",
     "output_type": "stream",
     "text": [
      "3\n",
      "5\n",
      "7\n",
      "11\n",
      "13\n",
      "17\n",
      "19\n",
      "23\n",
      "29\n",
      "31\n",
      "37\n",
      "41\n",
      "43\n",
      "47\n",
      "53\n",
      "59\n",
      "61\n",
      "67\n",
      "71\n",
      "73\n",
      "79\n",
      "83\n",
      "89\n",
      "97\n",
      "101\n",
      "103\n",
      "107\n",
      "109\n",
      "113\n",
      "127\n",
      "131\n",
      "137\n",
      "139\n",
      "149\n",
      "151\n",
      "157\n",
      "163\n",
      "167\n",
      "173\n",
      "179\n",
      "181\n",
      "191\n",
      "193\n",
      "197\n",
      "199\n",
      "211\n",
      "223\n",
      "227\n",
      "229\n",
      "233\n",
      "239\n",
      "241\n",
      "251\n",
      "257\n",
      "263\n",
      "269\n",
      "271\n",
      "277\n",
      "281\n",
      "283\n",
      "293\n",
      "307\n",
      "311\n",
      "313\n",
      "317\n",
      "331\n",
      "337\n",
      "347\n",
      "349\n",
      "353\n",
      "359\n",
      "367\n",
      "373\n",
      "379\n",
      "383\n",
      "389\n",
      "397\n",
      "401\n",
      "409\n",
      "419\n",
      "421\n",
      "431\n",
      "433\n",
      "439\n",
      "443\n",
      "449\n",
      "457\n",
      "461\n",
      "463\n",
      "467\n",
      "479\n",
      "487\n",
      "491\n",
      "499\n",
      "503\n",
      "509\n",
      "521\n",
      "523\n",
      "541\n",
      "547\n",
      "557\n",
      "563\n",
      "569\n",
      "571\n",
      "577\n",
      "587\n",
      "593\n",
      "599\n",
      "601\n",
      "607\n",
      "613\n",
      "617\n",
      "619\n",
      "631\n",
      "641\n",
      "643\n",
      "647\n",
      "653\n",
      "659\n",
      "661\n",
      "673\n",
      "677\n",
      "683\n",
      "691\n",
      "701\n",
      "709\n",
      "719\n",
      "727\n",
      "733\n",
      "739\n",
      "743\n",
      "751\n",
      "757\n",
      "761\n",
      "769\n",
      "773\n",
      "787\n",
      "797\n",
      "809\n",
      "811\n",
      "821\n",
      "823\n",
      "827\n",
      "829\n",
      "839\n",
      "853\n",
      "857\n",
      "859\n",
      "863\n",
      "877\n",
      "881\n",
      "883\n",
      "887\n",
      "907\n",
      "911\n",
      "919\n",
      "929\n",
      "937\n",
      "941\n",
      "947\n",
      "953\n",
      "967\n",
      "971\n",
      "977\n",
      "983\n",
      "991\n",
      "997\n"
     ]
    }
   ],
   "source": [
    "for k in prime_generator(1000):\n",
    "    print(k)"
   ]
  },
  {
   "cell_type": "code",
   "execution_count": 22,
   "id": "7713e4db-4522-4c57-888d-2b1903055566",
   "metadata": {},
   "outputs": [
    {
     "name": "stdout",
     "output_type": "stream",
     "text": [
      "3\n",
      "5\n",
      "7\n",
      "11\n",
      "13\n",
      "17\n",
      "19\n",
      "23\n",
      "29\n",
      "31\n",
      "37\n",
      "41\n",
      "43\n",
      "47\n",
      "53\n",
      "59\n",
      "61\n",
      "67\n",
      "71\n",
      "73\n"
     ]
    }
   ],
   "source": [
    "# First 20 prime numbers using next() keyword\n",
    "l=iter(prime_generator(1000))\n",
    "for i in range(20):\n",
    "    print(next(l))"
   ]
  },
  {
   "cell_type": "markdown",
   "id": "08d82528-c5ee-4938-8f75-33f0b4d52927",
   "metadata": {},
   "source": [
    "##### Q6. Write a python program to print the first 10 Fibonacci numbers using a while loop."
   ]
  },
  {
   "cell_type": "code",
   "execution_count": 27,
   "id": "cf168119-d43c-405d-9066-87b17dcd4b15",
   "metadata": {},
   "outputs": [
    {
     "name": "stdout",
     "output_type": "stream",
     "text": [
      "0\n",
      "1\n",
      "1\n",
      "2\n",
      "3\n",
      "5\n",
      "8\n",
      "13\n",
      "21\n",
      "34\n"
     ]
    }
   ],
   "source": [
    "i=0\n",
    "a=0\n",
    "b=1\n",
    "while i<10:\n",
    "    print(a)\n",
    "    a,b=b,a+b\n",
    "    i=i+1"
   ]
  },
  {
   "cell_type": "markdown",
   "id": "b63ffa8e-7163-4d9c-99c7-d2a817a607c9",
   "metadata": {},
   "source": [
    "##### Q7. Write a list comprehension to iterate through the given string: 'pwskills'."
   ]
  },
  {
   "cell_type": "code",
   "execution_count": 29,
   "id": "8a2c0a16-fc4f-4473-8934-208e9c672ffb",
   "metadata": {},
   "outputs": [
    {
     "data": {
      "text/plain": [
       "['p', 'w', 's', 'k', 'i', 'l', 'l', 's']"
      ]
     },
     "execution_count": 29,
     "metadata": {},
     "output_type": "execute_result"
    }
   ],
   "source": [
    "l='pwskills'\n",
    "[i for i in l]"
   ]
  },
  {
   "cell_type": "markdown",
   "id": "08b3a396-ea52-41ca-bcac-6b81c5cf1e07",
   "metadata": {},
   "source": [
    "##### Q8. Write a python program to check whether a given number is Palindrome or not while using a while loop."
   ]
  },
  {
   "cell_type": "code",
   "execution_count": 43,
   "id": "62c53514-ce69-472d-9d43-c9804ca7bdc3",
   "metadata": {},
   "outputs": [
    {
     "name": "stdin",
     "output_type": "stream",
     "text": [
      "Enter a Number:  16461\n"
     ]
    },
    {
     "name": "stdout",
     "output_type": "stream",
     "text": [
      "The given number is a Palindrome\n"
     ]
    }
   ],
   "source": [
    "# Using basic string manipulation\n",
    "num = int(input(\"Enter a Number: \"))\n",
    "num_change=str(num)\n",
    "if (num_change[::1]==num_change[::-1]):\n",
    "    print(\"The given number is a Palindrome\")\n",
    "else:\n",
    "    print(\"The given number is NOT a Palindrome\")"
   ]
  },
  {
   "cell_type": "code",
   "execution_count": 57,
   "id": "9ec8a736-aee0-4f25-b917-65f3e084d82c",
   "metadata": {},
   "outputs": [
    {
     "name": "stdin",
     "output_type": "stream",
     "text": [
      "Enter a Number:  7449447\n"
     ]
    },
    {
     "name": "stdout",
     "output_type": "stream",
     "text": [
      "The given number is Palindrome\n"
     ]
    }
   ],
   "source": [
    "# Using While loop\n",
    "num = int(input(\"Enter a Number: \"))\n",
    "num_change=str(num)\n",
    "i=0\n",
    "j=0\n",
    "while (i< int(len(num_change)/2)):\n",
    "    if(num_change[i]==num_change[len(num_change)-i-1]):\n",
    "        j=j+1\n",
    "    i=i+1\n",
    "\n",
    "if j==len(num_change)/2 or j==(len(num_change)-1)/2 :\n",
    "    print(\"The given number is Palindrome\")\n",
    "else:\n",
    "    print(\"The given number is not Palindrome\")"
   ]
  },
  {
   "cell_type": "markdown",
   "id": "115b8ee5-eb58-4d4d-9781-3c0a3a1e709d",
   "metadata": {},
   "source": [
    "##### Q9. Write a code to print odd numbers from 1 to 100 using list comprehension."
   ]
  },
  {
   "cell_type": "code",
   "execution_count": 40,
   "id": "309d29e7-df42-4825-9439-9cd3f33bc1c1",
   "metadata": {},
   "outputs": [
    {
     "data": {
      "text/plain": [
       "[1,\n",
       " 2,\n",
       " 3,\n",
       " 4,\n",
       " 5,\n",
       " 6,\n",
       " 7,\n",
       " 8,\n",
       " 9,\n",
       " 10,\n",
       " 11,\n",
       " 12,\n",
       " 13,\n",
       " 14,\n",
       " 15,\n",
       " 16,\n",
       " 17,\n",
       " 18,\n",
       " 19,\n",
       " 20,\n",
       " 21,\n",
       " 22,\n",
       " 23,\n",
       " 24,\n",
       " 25,\n",
       " 26,\n",
       " 27,\n",
       " 28,\n",
       " 29,\n",
       " 30,\n",
       " 31,\n",
       " 32,\n",
       " 33,\n",
       " 34,\n",
       " 35,\n",
       " 36,\n",
       " 37,\n",
       " 38,\n",
       " 39,\n",
       " 40,\n",
       " 41,\n",
       " 42,\n",
       " 43,\n",
       " 44,\n",
       " 45,\n",
       " 46,\n",
       " 47,\n",
       " 48,\n",
       " 49,\n",
       " 50,\n",
       " 51,\n",
       " 52,\n",
       " 53,\n",
       " 54,\n",
       " 55,\n",
       " 56,\n",
       " 57,\n",
       " 58,\n",
       " 59,\n",
       " 60,\n",
       " 61,\n",
       " 62,\n",
       " 63,\n",
       " 64,\n",
       " 65,\n",
       " 66,\n",
       " 67,\n",
       " 68,\n",
       " 69,\n",
       " 70,\n",
       " 71,\n",
       " 72,\n",
       " 73,\n",
       " 74,\n",
       " 75,\n",
       " 76,\n",
       " 77,\n",
       " 78,\n",
       " 79,\n",
       " 80,\n",
       " 81,\n",
       " 82,\n",
       " 83,\n",
       " 84,\n",
       " 85,\n",
       " 86,\n",
       " 87,\n",
       " 88,\n",
       " 89,\n",
       " 90,\n",
       " 91,\n",
       " 92,\n",
       " 93,\n",
       " 94,\n",
       " 95,\n",
       " 96,\n",
       " 97,\n",
       " 98,\n",
       " 99,\n",
       " 100]"
      ]
     },
     "execution_count": 40,
     "metadata": {},
     "output_type": "execute_result"
    }
   ],
   "source": [
    "#list comprehension to print numbers 1 to 100.\n",
    "[i for i in range(1,101)]"
   ]
  },
  {
   "cell_type": "code",
   "execution_count": 42,
   "id": "2e923d1b-f858-450a-b2be-d5603e861d9b",
   "metadata": {},
   "outputs": [
    {
     "data": {
      "text/plain": [
       "[1,\n",
       " 3,\n",
       " 5,\n",
       " 7,\n",
       " 9,\n",
       " 11,\n",
       " 13,\n",
       " 15,\n",
       " 17,\n",
       " 19,\n",
       " 21,\n",
       " 23,\n",
       " 25,\n",
       " 27,\n",
       " 29,\n",
       " 31,\n",
       " 33,\n",
       " 35,\n",
       " 37,\n",
       " 39,\n",
       " 41,\n",
       " 43,\n",
       " 45,\n",
       " 47,\n",
       " 49,\n",
       " 51,\n",
       " 53,\n",
       " 55,\n",
       " 57,\n",
       " 59,\n",
       " 61,\n",
       " 63,\n",
       " 65,\n",
       " 67,\n",
       " 69,\n",
       " 71,\n",
       " 73,\n",
       " 75,\n",
       " 77,\n",
       " 79,\n",
       " 81,\n",
       " 83,\n",
       " 85,\n",
       " 87,\n",
       " 89,\n",
       " 91,\n",
       " 93,\n",
       " 95,\n",
       " 97,\n",
       " 99]"
      ]
     },
     "execution_count": 42,
     "metadata": {},
     "output_type": "execute_result"
    }
   ],
   "source": [
    "#list comprehension to print odd numbers between 1 to 100\n",
    "[i+1 for i in range(100) if (i+1)%2==1]"
   ]
  },
  {
   "cell_type": "code",
   "execution_count": null,
   "id": "024bf88c-6474-4039-95ab-d49fe6f845e9",
   "metadata": {},
   "outputs": [],
   "source": []
  }
 ],
 "metadata": {
  "kernelspec": {
   "display_name": "Python 3 (ipykernel)",
   "language": "python",
   "name": "python3"
  },
  "language_info": {
   "codemirror_mode": {
    "name": "ipython",
    "version": 3
   },
   "file_extension": ".py",
   "mimetype": "text/x-python",
   "name": "python",
   "nbconvert_exporter": "python",
   "pygments_lexer": "ipython3",
   "version": "3.10.8"
  }
 },
 "nbformat": 4,
 "nbformat_minor": 5
}
