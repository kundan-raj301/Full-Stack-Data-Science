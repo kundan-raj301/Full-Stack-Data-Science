{
 "cells": [
  {
   "cell_type": "markdown",
   "id": "31c44720-55dd-49f2-897c-cec8114b24be",
   "metadata": {},
   "source": [
    "# Q1. Explain with an example each when to use a for loop and a while loop.\n",
    "\n",
    "Ans:\n",
    "In Python, for and while loops are used to execute a block of code repeatedly. The choice of which loop to use depends on the specific task at hand.\n",
    "\n",
    "A for loop is used when we know the number of times we need to execute a block of code. It is typically used to iterate over a sequence of elements such as a list, tuple, or string. For example, we can use a for loop to iterate over a list of numbers and calculate their sum as shown below:\n"
   ]
  },
  {
   "cell_type": "code",
   "execution_count": 1,
   "id": "4b1dc017-b577-4246-87e2-1596ab600d3c",
   "metadata": {},
   "outputs": [
    {
     "name": "stdout",
     "output_type": "stream",
     "text": [
      "The sum is: 15\n"
     ]
    }
   ],
   "source": [
    "# create a list of numbers\n",
    "numbers = [1, 2, 3, 4, 5]\n",
    "\n",
    "# initialize the sum variable\n",
    "sum = 0\n",
    "\n",
    "# iterate over the numbers in the list\n",
    "for num in numbers:\n",
    "    sum += num # add each number to the sum\n",
    "\n",
    "# print the result\n",
    "print(\"The sum is:\", sum)"
   ]
  },
  {
   "cell_type": "markdown",
   "id": "913d9340-7433-477c-a838-f743eda12ad9",
   "metadata": {},
   "source": [
    "On the other hand, a while loop is used when we do not know the number of times we need to execute a block of code, but rather we have a condition that needs to be met. It is typically used when we need to repeatedly execute a block of code until a certain condition is met. For example, we can use a while loop to print numbers from 1 to 5 as shown below:"
   ]
  },
  {
   "cell_type": "code",
   "execution_count": 2,
   "id": "d12e0310-b898-4f78-8d9e-559325c5f0d3",
   "metadata": {},
   "outputs": [
    {
     "name": "stdout",
     "output_type": "stream",
     "text": [
      "1\n",
      "2\n",
      "3\n",
      "4\n",
      "5\n"
     ]
    }
   ],
   "source": [
    "num = 1 # initialize the variable num to 1\n",
    "while num <= 5: # loop while the value of num is less than or equal to 5\n",
    "    print(num) # print the value of num\n",
    "    num += 1 # increment the value of num by 1"
   ]
  },
  {
   "cell_type": "markdown",
   "id": "28de24be-3f3b-48b6-be97-7e21848ba6f8",
   "metadata": {},
   "source": [
    "# Q2. Write a python program to print the sum and product of the first 10 natural numbers using for and while loop.\n",
    "\n",
    "Ans: Using for loop:"
   ]
  },
  {
   "cell_type": "code",
   "execution_count": 6,
   "id": "de90edbe-5ce1-47b6-bc81-38ea3392c670",
   "metadata": {},
   "outputs": [
    {
     "name": "stdout",
     "output_type": "stream",
     "text": [
      "The sum is: 55\n",
      "The product is: 3628800\n"
     ]
    }
   ],
   "source": [
    "# Initialize the sum and product variables to 0 and 1 respectively\n",
    "sum = 0\n",
    "product = 1\n",
    "\n",
    "# Loop through the numbers from 1 to 10 (excluding 11) using the 'range' function\n",
    "for num in range(1, 11):\n",
    "    sum += num # add the current number to the sum\n",
    "    product *= num # multiply the current number with the product\n",
    "\n",
    "# Print the final values of the sum and product\n",
    "print(\"The sum is:\", sum)\n",
    "print(\"The product is:\", product)"
   ]
  },
  {
   "cell_type": "markdown",
   "id": "39ac2642-699b-4c4d-97c1-05dc8226cf2e",
   "metadata": {},
   "source": [
    "Using while loop:"
   ]
  },
  {
   "cell_type": "code",
   "execution_count": 7,
   "id": "cdd9e4f7-e7c4-486d-9032-8586ac2305cb",
   "metadata": {},
   "outputs": [
    {
     "name": "stdout",
     "output_type": "stream",
     "text": [
      "The sum is: 55\n",
      "The product is: 3628800\n"
     ]
    }
   ],
   "source": [
    "# Initialize the sum, product, and num variables\n",
    "sum = 0\n",
    "product = 1\n",
    "num = 1\n",
    "\n",
    "# Loop through the numbers from 1 to 10 (inclusive)\n",
    "while num <= 10:\n",
    "    # Add the current number to the sum\n",
    "    sum += num\n",
    "    # Multiply the current number with the previous product\n",
    "    product *= num\n",
    "    # Increment the num variable\n",
    "    num += 1\n",
    "\n",
    "# Print the sum and product after the loop has completed\n",
    "print(\"The sum is:\", sum)\n",
    "print(\"The product is:\", product)"
   ]
  },
  {
   "cell_type": "markdown",
   "id": "91cc28f8-01a1-4765-89ef-f664512ab30b",
   "metadata": {},
   "source": [
    "# Q3. Create a python program to compute the electricity bill for a household.The per-unit charges in rupees are as follows: For the first 100 units, the user will be charged Rs. 4.5 perunit, for the next 100 units, the user will be charged Rs. 6 per unit, and for the next 100 units, the user will be charged Rs. 10 per unit, After 300 units and above the user will be charged Rs. 20 per unit.You are required to take the units of electricity consumed in a month from the user as input.\n",
    "# Your program must pass this test case: when the unit of electricity consumed by the user in a month is 310, the total electricity bill should be 2250.\n",
    "\n",
    "Solve:\n",
    "\n"
   ]
  },
  {
   "cell_type": "code",
   "execution_count": 9,
   "id": "40ecb309-82a7-45b6-aa34-222eab634af6",
   "metadata": {},
   "outputs": [
    {
     "name": "stdin",
     "output_type": "stream",
     "text": [
      "Enter the number of units consumed:  310\n"
     ]
    },
    {
     "name": "stdout",
     "output_type": "stream",
     "text": [
      "The total electricity bill is: 2250.0\n"
     ]
    }
   ],
   "source": [
    "units = int(input(\"Enter the number of units consumed: \"))\n",
    "# Initialize the total_bill to zero\n",
    "total_bill = 0\n",
    "\n",
    "# Calculate the electricity bill based on the number of units consumed\n",
    "if units <= 100:\n",
    "    total_bill = units * 4.5\n",
    "elif units <= 200:\n",
    "    total_bill = 100 * 4.5 + (units - 100) * 6\n",
    "elif units <= 300:\n",
    "    total_bill = 100 * 4.5 + 100 * 6 + (units - 200) * 10\n",
    "else:\n",
    "    total_bill = 100 * 4.5 + 100 * 6 + 100 * 10 + (units - 300) * 20\n",
    "\n",
    "# Display the total electricity bill to the user\n",
    "\n",
    "print(\"The total electricity bill is:\", total_bill)"
   ]
  },
  {
   "cell_type": "markdown",
   "id": "deb5a674-25b2-4f7f-9c1a-7c664111db0f",
   "metadata": {},
   "source": [
    "# Q4. Create a list of numbers from 1 to 100. Use for loop and while loop to calculate the cube of each number and if the cube of that number is divisible by 4 or 5 then append that number in a list and print that list.\n",
    "\n",
    "Solve: using For loop"
   ]
  },
  {
   "cell_type": "code",
   "execution_count": 10,
   "id": "0ec22aca-70c9-4466-b5e6-0d1d0a82e298",
   "metadata": {},
   "outputs": [
    {
     "name": "stdout",
     "output_type": "stream",
     "text": [
      "[2, 4, 5, 6, 8, 10, 12, 14, 15, 16, 18, 20, 22, 24, 25, 26, 28, 30, 32, 34, 35, 36, 38, 40, 42, 44, 45, 46, 48, 50, 52, 54, 55, 56, 58, 60, 62, 64, 65, 66, 68, 70, 72, 74, 75, 76, 78, 80, 82, 84, 85, 86, 88, 90, 92, 94, 95, 96, 98, 100]\n"
     ]
    }
   ],
   "source": [
    "numbers = list(range(1, 101)) # create a list of numbers from 1 to 100\n",
    "result = []\n",
    "\n",
    "for num in numbers:\n",
    "    cube = num ** 3 # calculate the cube of the number\n",
    "    if cube % 4 == 0 or cube % 5 == 0: # check if the cube is divisible by 4 or 5\n",
    "        result.append(num) # append the number to the result list\n",
    "\n",
    "print(result)"
   ]
  },
  {
   "cell_type": "markdown",
   "id": "136c5f54-7319-4553-96ee-58edb2be15e8",
   "metadata": {},
   "source": [
    "Using While Loop:"
   ]
  },
  {
   "cell_type": "code",
   "execution_count": 11,
   "id": "6c1ac598-8648-47ca-b93a-2621420c639a",
   "metadata": {},
   "outputs": [
    {
     "name": "stdout",
     "output_type": "stream",
     "text": [
      "[2, 4, 5, 6, 8, 10, 12, 14, 15, 16, 18, 20, 22, 24, 25, 26, 28, 30, 32, 34, 35, 36, 38, 40, 42, 44, 45, 46, 48, 50, 52, 54, 55, 56, 58, 60, 62, 64, 65, 66, 68, 70, 72, 74, 75, 76, 78, 80, 82, 84, 85, 86, 88, 90, 92, 94, 95, 96, 98, 100]\n"
     ]
    }
   ],
   "source": [
    "numbers = list(range(1, 101)) # create a list of numbers from 1 to 100\n",
    "result = []\n",
    "i = 0\n",
    "\n",
    "while i < len(numbers):\n",
    "    cube = numbers[i] ** 3 # calculate the cube of the number\n",
    "    if cube % 4 == 0 or cube % 5 == 0: # check if the cube is divisible by 4 or 5\n",
    "        result.append(numbers[i]) # append the number to the result list\n",
    "    i += 1\n",
    "\n",
    "print(result) "
   ]
  },
  {
   "cell_type": "markdown",
   "id": "29c860f9-be8c-44e6-aa0f-a1ebf50d0817",
   "metadata": {},
   "source": [
    "# Q5. Write a program to filter count vowels in the below-given string.\n",
    "# string = \"I want to become a data scientist\""
   ]
  },
  {
   "cell_type": "code",
   "execution_count": 12,
   "id": "51509b6d-7d87-4e0c-81a5-f193bc0ab56e",
   "metadata": {},
   "outputs": [
    {
     "name": "stdout",
     "output_type": "stream",
     "text": [
      "The number of vowels in the string is: 12\n"
     ]
    }
   ],
   "source": [
    "string= \"I want to become a data scientist\"\n",
    "vowels = ['a', 'e', 'i', 'o', 'u'] # define a list of vowels\n",
    "count = 0\n",
    "\n",
    "for char in string:\n",
    "    if char.lower() in vowels: # check if the character is a vowel\n",
    "        count += 1 # increment the count\n",
    "\n",
    "print(\"The number of vowels in the string is:\", count)"
   ]
  },
  {
   "cell_type": "code",
   "execution_count": null,
   "id": "64806314-6dba-4b7f-8b53-f7d82918db7c",
   "metadata": {},
   "outputs": [],
   "source": []
  }
 ],
 "metadata": {
  "kernelspec": {
   "display_name": "Python 3 (ipykernel)",
   "language": "python",
   "name": "python3"
  },
  "language_info": {
   "codemirror_mode": {
    "name": "ipython",
    "version": 3
   },
   "file_extension": ".py",
   "mimetype": "text/x-python",
   "name": "python",
   "nbconvert_exporter": "python",
   "pygments_lexer": "ipython3",
   "version": "3.10.8"
  }
 },
 "nbformat": 4,
 "nbformat_minor": 5
}
