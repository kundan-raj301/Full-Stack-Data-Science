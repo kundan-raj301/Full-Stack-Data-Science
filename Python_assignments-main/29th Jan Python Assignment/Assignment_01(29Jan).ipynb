{
 "cells": [
  {
   "cell_type": "markdown",
   "id": "89fc23cd-8320-4022-9da8-9f2922df1acb",
   "metadata": {},
   "source": [
    "# Q1. Which keyword is used to create a function? Create a function to return the list of odd numbers in the range of 1 to 25.\n",
    "\n",
    "Ans:def keyword is used to create a function."
   ]
  },
  {
   "cell_type": "code",
   "execution_count": 10,
   "id": "e3d4b5ec-94ec-4a7d-a477-0bcf8035fd9b",
   "metadata": {},
   "outputs": [],
   "source": [
    "list = []\n",
    "def odd():\n",
    "    for i in range(1,26):\n",
    "        if (i%2==1):\n",
    "            list.append(i)\n",
    "    return list"
   ]
  },
  {
   "cell_type": "code",
   "execution_count": 9,
   "id": "72e8c97b-2795-4b3a-bf60-8eb46228edf8",
   "metadata": {},
   "outputs": [
    {
     "data": {
      "text/plain": [
       "[1, 3, 5, 7, 9, 11, 13, 15, 17, 19, 21, 23, 25]"
      ]
     },
     "execution_count": 9,
     "metadata": {},
     "output_type": "execute_result"
    }
   ],
   "source": [
    "odd()"
   ]
  },
  {
   "cell_type": "markdown",
   "id": "a17d2b08-0318-4235-9d18-3fdca9a1c6f3",
   "metadata": {},
   "source": [
    "# Q2. Why args and kwargs are used in some functions? Create a function each for args and **kwargs to demonstrate its use.\n",
    "\n",
    "Ans: args is used to input any number of arguments into a function, while *kwargs is used to input the arguments in the form of key-value pair in the function.\n"
   ]
  },
  {
   "cell_type": "code",
   "execution_count": 11,
   "id": "227600f6-9ddf-4ba1-b637-bfa282640aa7",
   "metadata": {},
   "outputs": [],
   "source": [
    "def add(*num):\n",
    "    total=0\n",
    "    for i in num:\n",
    "        total = total + i\n",
    "    return total"
   ]
  },
  {
   "cell_type": "code",
   "execution_count": 12,
   "id": "6d41f367-7fcf-4a10-9643-3fdc09e982e1",
   "metadata": {},
   "outputs": [
    {
     "name": "stdout",
     "output_type": "stream",
     "text": [
      "5\n"
     ]
    }
   ],
   "source": [
    "print(add(2,3))"
   ]
  },
  {
   "cell_type": "code",
   "execution_count": 13,
   "id": "31feac5a-c452-4d78-9ac4-8c19b7080462",
   "metadata": {},
   "outputs": [
    {
     "name": "stdout",
     "output_type": "stream",
     "text": [
      "22\n"
     ]
    }
   ],
   "source": [
    "print(add(2,5,7,8))"
   ]
  },
  {
   "cell_type": "code",
   "execution_count": 14,
   "id": "436a62bf-ab0d-4675-9f00-7ae55314ee11",
   "metadata": {},
   "outputs": [
    {
     "name": "stdout",
     "output_type": "stream",
     "text": [
      "361\n"
     ]
    }
   ],
   "source": [
    "print(add(92,57,10,45,29,16,22,90))"
   ]
  },
  {
   "cell_type": "code",
   "execution_count": 15,
   "id": "c20af3c1-52a7-496b-ac9b-97b2d7d00a71",
   "metadata": {},
   "outputs": [],
   "source": [
    "# addition using the kwargs\n",
    "def addition(**num):\n",
    "    sum=0\n",
    "    for i in num.values():\n",
    "        sum = sum+ i \n",
    "    return sum"
   ]
  },
  {
   "cell_type": "code",
   "execution_count": 16,
   "id": "03f30644-3c90-4c30-9886-1174b7cfa89d",
   "metadata": {},
   "outputs": [
    {
     "name": "stdout",
     "output_type": "stream",
     "text": [
      "364\n"
     ]
    }
   ],
   "source": [
    "print(addition(a=67,b=98,c=199))"
   ]
  },
  {
   "cell_type": "markdown",
   "id": "06c5a433-f3b9-44b4-bd77-5ee5008a8613",
   "metadata": {},
   "source": [
    "# Q3. What is an iterator in python? Name the method used to initialize the iterator object and the method used for iteration. USe these methods to print the first five elements of the given list.[2,4,6,8,10,12,14,16,18,20]\n",
    "\n",
    "Ans: An iterator is an object that contains specific number of values which can be iterated upon."
   ]
  },
  {
   "cell_type": "code",
   "execution_count": 17,
   "id": "6c29cdb8-d678-4b25-a366-eca8a977b6b6",
   "metadata": {},
   "outputs": [],
   "source": [
    "l=[2,4,6,8,10,12,14,16,18,20]\n",
    "l4=iter(l)"
   ]
  },
  {
   "cell_type": "code",
   "execution_count": 18,
   "id": "9e2b0151-9606-4ae3-90b0-af2b6db32125",
   "metadata": {},
   "outputs": [
    {
     "data": {
      "text/plain": [
       "list_iterator"
      ]
     },
     "execution_count": 18,
     "metadata": {},
     "output_type": "execute_result"
    }
   ],
   "source": [
    "type(l4)"
   ]
  },
  {
   "cell_type": "code",
   "execution_count": 19,
   "id": "56e07143-c9b9-427e-8b10-0d1540732d58",
   "metadata": {},
   "outputs": [
    {
     "name": "stdout",
     "output_type": "stream",
     "text": [
      "2\n",
      "4\n",
      "6\n",
      "8\n",
      "10\n",
      "12\n",
      "14\n",
      "16\n",
      "18\n",
      "20\n"
     ]
    }
   ],
   "source": [
    "for i in range(0,20,2):\n",
    "    print(next(l4))"
   ]
  },
  {
   "cell_type": "markdown",
   "id": "02b0b118-933f-4026-b70f-8c49ccfa77e9",
   "metadata": {},
   "source": [
    "# Q4. What is a generator function in python? Why yield keyword is used? Give an example of generator function.\n",
    "\n",
    "Ans: \n",
    "\n",
    "Generator functions helps you to declare a function that acts like an iterator.\n",
    "\n",
    "Yield keyword is used to return the valuein generator function."
   ]
  },
  {
   "cell_type": "code",
   "execution_count": 25,
   "id": "955cf620-dbf2-4499-87df-f2c08dd670e7",
   "metadata": {},
   "outputs": [],
   "source": [
    "# generator function for table of 3\n",
    "def table_generator():\n",
    "    n=3\n",
    "    for i in range(10):\n",
    "        n=3*(i+1)\n",
    "        yield n"
   ]
  },
  {
   "cell_type": "code",
   "execution_count": 26,
   "id": "5aa68ef1-9231-4039-be49-c27667d2b390",
   "metadata": {},
   "outputs": [
    {
     "data": {
      "text/plain": [
       "<generator object table_generator at 0x7f9a340bfc30>"
      ]
     },
     "execution_count": 26,
     "metadata": {},
     "output_type": "execute_result"
    }
   ],
   "source": [
    "table_generator()"
   ]
  },
  {
   "cell_type": "code",
   "execution_count": 28,
   "id": "2252816b-9f20-4179-9318-6bb04d84ca09",
   "metadata": {},
   "outputs": [
    {
     "data": {
      "text/plain": [
       "(3, 6, 9, 12, 15, 18, 21, 24, 27, 30)"
      ]
     },
     "execution_count": 28,
     "metadata": {},
     "output_type": "execute_result"
    }
   ],
   "source": [
    "tuple(table_generator())"
   ]
  },
  {
   "cell_type": "markdown",
   "id": "6f37baa4-ade8-43ad-bbbb-36e0e7cddc8a",
   "metadata": {},
   "source": [
    "# Q5. Create a generator function for prime numbers less than 1000. Use the next() method to print the first 20 numbers.\n"
   ]
  },
  {
   "cell_type": "code",
   "execution_count": 29,
   "id": "bd79a224-fdc3-4164-9ee6-fa3498060709",
   "metadata": {},
   "outputs": [],
   "source": [
    "def prime_generator(n):\n",
    "    for i in range(n):\n",
    "        k=0\n",
    "        for j in range(2,i):\n",
    "            if (i%j==0):\n",
    "                break\n",
    "            k=k+1\n",
    "            if (k==i-2):\n",
    "                yield i"
   ]
  },
  {
   "cell_type": "code",
   "execution_count": 30,
   "id": "fbd57ad3-60b3-466f-a150-6136776802ab",
   "metadata": {},
   "outputs": [
    {
     "name": "stdout",
     "output_type": "stream",
     "text": [
      "3\n",
      "5\n",
      "7\n",
      "11\n",
      "13\n",
      "17\n",
      "19\n",
      "23\n",
      "29\n",
      "31\n",
      "37\n",
      "41\n",
      "43\n",
      "47\n",
      "53\n",
      "59\n",
      "61\n",
      "67\n",
      "71\n",
      "73\n",
      "79\n",
      "83\n",
      "89\n",
      "97\n",
      "101\n",
      "103\n",
      "107\n",
      "109\n",
      "113\n",
      "127\n",
      "131\n",
      "137\n",
      "139\n",
      "149\n",
      "151\n",
      "157\n",
      "163\n",
      "167\n",
      "173\n",
      "179\n",
      "181\n",
      "191\n",
      "193\n",
      "197\n",
      "199\n",
      "211\n",
      "223\n",
      "227\n",
      "229\n",
      "233\n",
      "239\n",
      "241\n",
      "251\n",
      "257\n",
      "263\n",
      "269\n",
      "271\n",
      "277\n",
      "281\n",
      "283\n",
      "293\n",
      "307\n",
      "311\n",
      "313\n",
      "317\n",
      "331\n",
      "337\n",
      "347\n",
      "349\n",
      "353\n",
      "359\n",
      "367\n",
      "373\n",
      "379\n",
      "383\n",
      "389\n",
      "397\n",
      "401\n",
      "409\n",
      "419\n",
      "421\n",
      "431\n",
      "433\n",
      "439\n",
      "443\n",
      "449\n",
      "457\n",
      "461\n",
      "463\n",
      "467\n",
      "479\n",
      "487\n",
      "491\n",
      "499\n",
      "503\n",
      "509\n",
      "521\n",
      "523\n",
      "541\n",
      "547\n",
      "557\n",
      "563\n",
      "569\n",
      "571\n",
      "577\n",
      "587\n",
      "593\n",
      "599\n",
      "601\n",
      "607\n",
      "613\n",
      "617\n",
      "619\n",
      "631\n",
      "641\n",
      "643\n",
      "647\n",
      "653\n",
      "659\n",
      "661\n",
      "673\n",
      "677\n",
      "683\n",
      "691\n",
      "701\n",
      "709\n",
      "719\n",
      "727\n",
      "733\n",
      "739\n",
      "743\n",
      "751\n",
      "757\n",
      "761\n",
      "769\n",
      "773\n",
      "787\n",
      "797\n",
      "809\n",
      "811\n",
      "821\n",
      "823\n",
      "827\n",
      "829\n",
      "839\n",
      "853\n",
      "857\n",
      "859\n",
      "863\n",
      "877\n",
      "881\n",
      "883\n",
      "887\n",
      "907\n",
      "911\n",
      "919\n",
      "929\n",
      "937\n",
      "941\n",
      "947\n",
      "953\n",
      "967\n",
      "971\n",
      "977\n",
      "983\n",
      "991\n",
      "997\n"
     ]
    }
   ],
   "source": [
    "for k in prime_generator(1000):\n",
    "    print(k)"
   ]
  },
  {
   "cell_type": "code",
   "execution_count": 31,
   "id": "ebc242d4-918e-4b4b-9464-85a94248de77",
   "metadata": {},
   "outputs": [
    {
     "name": "stdout",
     "output_type": "stream",
     "text": [
      "3\n",
      "5\n",
      "7\n",
      "11\n",
      "13\n",
      "17\n",
      "19\n",
      "23\n",
      "29\n",
      "31\n",
      "37\n",
      "41\n",
      "43\n",
      "47\n",
      "53\n",
      "59\n",
      "61\n",
      "67\n",
      "71\n",
      "73\n"
     ]
    }
   ],
   "source": [
    "# First 20 prime numbers using next() keyword\n",
    "l=iter(prime_generator(1000))\n",
    "for i in range(20):\n",
    "    print(next(l))"
   ]
  },
  {
   "cell_type": "markdown",
   "id": "9182062e-6798-4c58-9279-61d43796ef35",
   "metadata": {},
   "source": [
    "# Q6. Write a python program to print the first 10 Fibonacci numbers using a while loop."
   ]
  },
  {
   "cell_type": "code",
   "execution_count": 32,
   "id": "9d78f8dc-0fb3-44a1-8bbb-87e0598e80b2",
   "metadata": {},
   "outputs": [
    {
     "name": "stdout",
     "output_type": "stream",
     "text": [
      "0\n",
      "1\n",
      "1\n",
      "2\n",
      "3\n",
      "5\n",
      "8\n",
      "13\n",
      "21\n",
      "34\n"
     ]
    }
   ],
   "source": [
    "i=0\n",
    "a=0\n",
    "b=1\n",
    "while i<10:\n",
    "    print(a)\n",
    "    a,b=b,a+b\n",
    "    i=i+1"
   ]
  },
  {
   "cell_type": "markdown",
   "id": "ae1893bc-dd9b-4491-9f74-b1f5ca31d65e",
   "metadata": {},
   "source": [
    "# Q7. Write a list comprehension to iterate through the given string: 'pwskills'."
   ]
  },
  {
   "cell_type": "code",
   "execution_count": 33,
   "id": "5cceb180-ffd7-4edf-8dc5-f27069d966d7",
   "metadata": {},
   "outputs": [
    {
     "data": {
      "text/plain": [
       "['p', 'w', 's', 'k', 'i', 'l', 'l', 's']"
      ]
     },
     "execution_count": 33,
     "metadata": {},
     "output_type": "execute_result"
    }
   ],
   "source": [
    "l='pwskills'\n",
    "[i for i in l]"
   ]
  },
  {
   "cell_type": "markdown",
   "id": "26073c2e-0df1-4ed2-8a98-53b856c6ede4",
   "metadata": {},
   "source": [
    "# Q8. Write a python program to check whether a given number is Palindrome or not while using a while loop."
   ]
  },
  {
   "cell_type": "code",
   "execution_count": 36,
   "id": "d7322493-8455-4752-aa53-2fce84820ac6",
   "metadata": {},
   "outputs": [
    {
     "name": "stdin",
     "output_type": "stream",
     "text": [
      "Enter a Number:  556\n"
     ]
    },
    {
     "name": "stdout",
     "output_type": "stream",
     "text": [
      "The given number is NOT a Palindrome\n"
     ]
    }
   ],
   "source": [
    "# Using basic string manipulation\n",
    "num = int(input(\"Enter a Number: \"))\n",
    "num_change=str(num)\n",
    "if (num_change[::1]==num_change[::-1]):\n",
    "    print(\"The given number is a Palindrome\")\n",
    "else:\n",
    "    print(\"The given number is NOT a Palindrome\")"
   ]
  },
  {
   "cell_type": "code",
   "execution_count": 37,
   "id": "137b73ff-40ee-4667-be6c-5a1b7ddbe82a",
   "metadata": {},
   "outputs": [
    {
     "name": "stdin",
     "output_type": "stream",
     "text": [
      "Enter a Number:  545\n"
     ]
    },
    {
     "name": "stdout",
     "output_type": "stream",
     "text": [
      "The given number is Palindrome\n"
     ]
    }
   ],
   "source": [
    "# Using While loop\n",
    "num = int(input(\"Enter a Number: \"))\n",
    "num_change=str(num)\n",
    "i=0\n",
    "j=0\n",
    "while (i< int(len(num_change)/2)):\n",
    "    if(num_change[i]==num_change[len(num_change)-i-1]):\n",
    "        j=j+1\n",
    "    i=i+1\n",
    "\n",
    "if j==len(num_change)/2 or j==(len(num_change)-1)/2 :\n",
    "    print(\"The given number is Palindrome\")\n",
    "else:\n",
    "    print(\"The given number is not Palindrome\")"
   ]
  },
  {
   "cell_type": "markdown",
   "id": "d67a5f97-d731-4c51-9468-7788644307d0",
   "metadata": {},
   "source": []
  }
 ],
 "metadata": {
  "kernelspec": {
   "display_name": "Python 3 (ipykernel)",
   "language": "python",
   "name": "python3"
  },
  "language_info": {
   "codemirror_mode": {
    "name": "ipython",
    "version": 3
   },
   "file_extension": ".py",
   "mimetype": "text/x-python",
   "name": "python",
   "nbconvert_exporter": "python",
   "pygments_lexer": "ipython3",
   "version": "3.10.8"
  }
 },
 "nbformat": 4,
 "nbformat_minor": 5
}
