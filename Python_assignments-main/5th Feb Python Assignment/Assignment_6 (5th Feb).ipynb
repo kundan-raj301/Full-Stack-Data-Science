{
 "cells": [
  {
   "cell_type": "markdown",
   "id": "a7f3a72e-68f4-4ed2-803e-b0eff999e7bf",
   "metadata": {},
   "source": [
    "# Assignment 6 - 5th February\n",
    "\n",
    "\n",
    "\n",
    "### KUNDAN KUMAR"
   ]
  },
  {
   "cell_type": "markdown",
   "id": "28f41b37-e256-403d-8459-29a932cf42c5",
   "metadata": {},
   "source": [
    "##### Q1. Explain Class and Object with respect to Object-Oriented Programming. Give a suitable example.\n",
    "\n",
    "Ans:\n",
    "Class - Class is a blueprint that creates a user defined datatype which has some properties and behaviors.\n",
    "\n",
    "Object - Object is an instance of a class which has the same properties as of class.  \n",
    "\n",
    "For eg. Car - we can create a class of car which has some specific properties like weight, type and object will be the different manufacturers of car like BMW, Maruti Suzuki, Audi etc."
   ]
  },
  {
   "cell_type": "markdown",
   "id": "b9457295-4647-40ca-8535-c7682944812f",
   "metadata": {},
   "source": [
    "##### Q2. Name the four pillars of OOPs.\n",
    "\n",
    "Ans:\n",
    "\n",
    "Four pillars of OOP's are -\n",
    "1. Polymorphism\n",
    "2. Encapsulation\n",
    "3. Inheritance \n",
    "4. Abstraction"
   ]
  },
  {
   "cell_type": "markdown",
   "id": "f70b8bf8-8985-48d6-9ae2-a35e8cdf0f96",
   "metadata": {},
   "source": [
    "##### Q3. Explain why the __init__() function is used. Give a suitable example.\n",
    "\n",
    "Ans:\n",
    "\n",
    "__init__() function is a python constructor which is created to take inputs from the user while calling that class.\n",
    "\n",
    "And it is used to initialize the data members defined under the function.\n",
    "\n",
    "# example :-"
   ]
  },
  {
   "cell_type": "code",
   "execution_count": 4,
   "id": "a3dae044-57dc-4edd-93f7-0ac942713815",
   "metadata": {},
   "outputs": [],
   "source": [
    "class hello_msg:\n",
    "    def __init__(self,name):\n",
    "        self.name = name\n",
    "    def display(self):\n",
    "        print(\"Hello! \", self.name) "
   ]
  },
  {
   "cell_type": "code",
   "execution_count": 5,
   "id": "1224e195-4ef2-424e-a220-b0ed4b4d50fb",
   "metadata": {},
   "outputs": [],
   "source": [
    "Kundan = hello_msg(\"Kundan\")"
   ]
  },
  {
   "cell_type": "code",
   "execution_count": 6,
   "id": "1d81b33b-65c9-4cac-b139-15a644244e00",
   "metadata": {},
   "outputs": [
    {
     "name": "stdout",
     "output_type": "stream",
     "text": [
      "Hello!  Kundan\n"
     ]
    }
   ],
   "source": [
    "Kundan.display()"
   ]
  },
  {
   "cell_type": "markdown",
   "id": "908064aa-a276-4b7c-a29b-ccf99eea2b17",
   "metadata": {},
   "source": [
    "##### Q4. Why self is used in OOPs?\n",
    "\n",
    "Ans:\n",
    "\n",
    "Self represents instance of class and is used in OOPs to connect the function defined in its class.By using the “self” we can access the attributes and methods of the class in python."
   ]
  },
  {
   "cell_type": "markdown",
   "id": "c52c4f7d-472c-4d0a-9bef-c506417903a1",
   "metadata": {},
   "source": [
    "##### Q5. What is inheritance? Give an example for each type of inheritance."
   ]
  },
  {
   "cell_type": "markdown",
   "id": "8b12cff3-488f-42fd-8d7c-3cc25ea583c1",
   "metadata": {},
   "source": [
    "Inheritance as its name suggests, inherit the property of its parent class to other child classes or we can say that when a class is derived from other class. \n",
    "There are 4 types of inheritance-\n",
    "1. Multilevel Inheritance\n",
    "2. Multiple Inheritance\n",
    "3. Single Inheritance\n",
    "4. Hierarchical Inheritance \n",
    "5. Hybrid Inheritance"
   ]
  },
  {
   "cell_type": "code",
   "execution_count": 25,
   "id": "ad7199be-9429-4f78-9a67-0b27f9f98cc5",
   "metadata": {},
   "outputs": [
    {
     "name": "stdout",
     "output_type": "stream",
     "text": [
      "Combo- Samsung headset\n",
      "Combo- Apple phone\n"
     ]
    }
   ],
   "source": [
    "# Single Inheritance - When child class is derived from only one parent class. \n",
    "class brand():              # parent class\n",
    "    brand_1=\"Samsung\"\n",
    "    brand_2=\"Apple\"\n",
    "    brand_3=\"Motorola\"\n",
    "class accessories(brand):       # child class \n",
    "    access_1=\"headset\"\n",
    "    access_2=\"phone\"\n",
    "    access_3=\"speaker\"\n",
    "    \n",
    "obj_1= accessories()           #Oject-creation\n",
    "\n",
    "print(\"Combo-\", obj_1.brand_1, obj_1.access_1)\n",
    "print(\"Combo-\", obj_1.brand_2, obj_1.access_2)\n",
    "    "
   ]
  },
  {
   "cell_type": "code",
   "execution_count": 23,
   "id": "96345791-f5fe-4b4a-817f-0ac3ab6f193d",
   "metadata": {},
   "outputs": [
    {
     "name": "stdout",
     "output_type": "stream",
     "text": [
      "Combo- Samsung headset\n",
      "Combo- Apple phone\n"
     ]
    }
   ],
   "source": [
    "# Multiple Inheritance - When child class is derived or inherited from more than one parent class.\n",
    "class brand():              # parent class\n",
    "    brand_1=\"Samsung\"\n",
    "    brand_2=\"Apple\"\n",
    "    brand_3=\"Motorola\"\n",
    "class accessories():       # child class \n",
    "    access_1=\"headset\"\n",
    "    access_2=\"phone\"\n",
    "    access_3=\"speaker\"\n",
    "\n",
    "class sale_quantity(brand, accessories): \n",
    "    sale_1=100\n",
    "    sale_2=50\n",
    "    sale_3=10\n",
    "    \n",
    "obj_1= sale_quantity()           #Oject-creation\n",
    "\n",
    "print(\"Combo-\", obj_1.brand_1, obj_1.access_1)\n",
    "print(\"Combo-\", obj_1.brand_2, obj_1.access_2)"
   ]
  },
  {
   "cell_type": "code",
   "execution_count": 24,
   "id": "1ef9f763-b646-470d-bfdd-87351c8b22c9",
   "metadata": {},
   "outputs": [
    {
     "name": "stdout",
     "output_type": "stream",
     "text": [
      "Combo- Motorola speaker\n",
      "Combo- Apple phone\n"
     ]
    }
   ],
   "source": [
    "# Multilevel Inheritance: In multilevel inheritance, we have one parent class and child class that is derived or inherited from that parent class.\n",
    "# Multi-level of parent-child combination will be there.\n",
    "class brand():              # parent class\n",
    "    brand_1=\"Samsung\"\n",
    "    brand_2=\"Apple\"\n",
    "    brand_3=\"Motorola\"\n",
    "class accessories(brand):       # child class \n",
    "    access_1=\"headset\"\n",
    "    access_2=\"phone\"\n",
    "    access_3=\"speaker\"\n",
    "\n",
    "class sale_quantity(accessories):  # grandchild class\n",
    "    sale_1=100\n",
    "    sale_2=50\n",
    "    sale_3=10\n",
    "    \n",
    "obj_2= sale_quantity()           #Oject-creation\n",
    "\n",
    "print(\"Combo-\", obj_2.brand_3, obj_2.access_3)\n",
    "print(\"Combo-\", obj_2.brand_2, obj_2.access_2)"
   ]
  },
  {
   "cell_type": "code",
   "execution_count": 27,
   "id": "dfd6a04e-0483-4440-9120-4d341b72d87d",
   "metadata": {},
   "outputs": [
    {
     "name": "stdout",
     "output_type": "stream",
     "text": [
      "Combo - Motorola speaker\n",
      "Combo - Apple phone\n"
     ]
    }
   ],
   "source": [
    "# Hierarchical inheritance: When we derive or inherit more than one child class from one(same) parent class.\n",
    "class brand():              # parent class\n",
    "    brand_1=\"Samsung\"\n",
    "    brand_2=\"Apple\"\n",
    "    brand_3=\"Motorola\"\n",
    "class accessories(brand):       # child class \n",
    "    access_1=\"headset\"\n",
    "    access_2=\"phone\"\n",
    "    access_3=\"speaker\"\n",
    "\n",
    "class sale_quantity(brand):  # child class\n",
    "    sale_1=100\n",
    "    sale_2=50\n",
    "    sale_3=10\n",
    "    \n",
    "obj_2= sale_quantity()           #Oject-creation\n",
    "obj_3= accessories()\n",
    "\n",
    "print(\"Combo -\", obj_2.brand_3, obj_3.access_3)\n",
    "print(\"Combo -\", obj_2.brand_2, obj_3.access_2)"
   ]
  },
  {
   "cell_type": "code",
   "execution_count": 34,
   "id": "9dfd52b5-5b3f-481f-b118-bfea5663bb26",
   "metadata": {},
   "outputs": [],
   "source": [
    "# Hybrid Inheritance: Hybrid inheritance satisfies more than one form of inheritance.like Multilevel inheritance with multiple inheritance\n",
    "class car :\n",
    "    def fun1(self):\n",
    "        print(\"I have 2 cars.\")\n",
    "class car_1(car):\n",
    "    def fun2(self):\n",
    "        print(\"I have a BMW car\")\n",
    "class car_2(car):            # hierarchical inheritance \n",
    "    def fun3(self):\n",
    "        print(\"I have a Audi car\")\n",
    "class car_3(car_2, car_1):  #Multiple Inheritance \n",
    "    def fun4(self):\n",
    "        print(\"Inheriting both BMW and Audi car\")\n",
    "        \n",
    "obj_4=car_3()\n",
    "obj_5= car_2()"
   ]
  },
  {
   "cell_type": "code",
   "execution_count": 35,
   "id": "6cdd503f-f76c-46d2-9a80-1799603513ba",
   "metadata": {},
   "outputs": [
    {
     "name": "stdout",
     "output_type": "stream",
     "text": [
      "Inheriting both BMW and Audi car\n",
      "I have 2 cars.\n"
     ]
    }
   ],
   "source": [
    "obj_4.fun4()\n",
    "obj_5.fun1()"
   ]
  },
  {
   "cell_type": "code",
   "execution_count": null,
   "id": "beba0f98-aac4-4bef-b75a-4e8a5e9ffdcf",
   "metadata": {},
   "outputs": [],
   "source": []
  }
 ],
 "metadata": {
  "kernelspec": {
   "display_name": "Python 3 (ipykernel)",
   "language": "python",
   "name": "python3"
  },
  "language_info": {
   "codemirror_mode": {
    "name": "ipython",
    "version": 3
   },
   "file_extension": ".py",
   "mimetype": "text/x-python",
   "name": "python",
   "nbconvert_exporter": "python",
   "pygments_lexer": "ipython3",
   "version": "3.10.8"
  }
 },
 "nbformat": 4,
 "nbformat_minor": 5
}
